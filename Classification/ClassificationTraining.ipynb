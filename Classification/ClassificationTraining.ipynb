{
 "cells": [
  {
   "cell_type": "markdown",
   "metadata": {},
   "source": [
    "# Pre trained word embeddings"
   ]
  },
  {
   "cell_type": "markdown",
   "metadata": {},
   "source": [
    "source : https://github.com/keras-team/keras/blob/master/examples/pretrained_word_embeddings.py\n",
    "\n",
    "This script loads pre-trained word embeddings (GloVe embeddings)\n",
    "into a frozen Keras Embedding layer, and uses it to\n",
    "train a text classification model on pubblications\n",
    "\n",
    "GloVe embedding data can be found at:\n",
    "http://nlp.stanford.edu/data/glove.6B.zip\n",
    "(source page: http://nlp.stanford.edu/projects/glove/)\n",
    "\n",
    "FastText embedding data can be found at:\n",
    "https://fasttext.cc/docs/en/english-vectors.html\n",
    "\n",
    "Dict2vec embedding data can be found at:\n",
    "https://github.com/tca19/dict2vec\n",
    "\n",
    "Dict2vec publication : J. Tissier, C. Gravier, A. Habrard, Dict2vec : Learning Word Embeddings using Lexical Dictionaries"
   ]
  },
  {
   "cell_type": "code",
   "execution_count": 1,
   "metadata": {},
   "outputs": [
    {
     "name": "stderr",
     "output_type": "stream",
     "text": [
      "Using TensorFlow backend.\n"
     ]
    }
   ],
   "source": [
    "from __future__ import print_function\n",
    "\n",
    "import os\n",
    "import sys\n",
    "import numpy as np\n",
    "from keras.preprocessing.text import Tokenizer\n",
    "from keras.preprocessing.sequence import pad_sequences\n",
    "from keras.utils import to_categorical\n",
    "from keras.layers import Dense, Input, GlobalMaxPooling1D\n",
    "from keras.layers import Conv1D, MaxPooling1D, Embedding\n",
    "from keras.models import Model\n",
    "from keras.initializers import Constant\n",
    "\n",
    "cwd = os.getcwd()\n",
    "BASE_DIR = r'data'\n",
    "GLOVE_DIR = os.path.join(BASE_DIR, 'glove.6B\\glove.6B.100d.txt')\n",
    "FASTTEXT_DIR = os.path.join(BASE_DIR, 'fasttext\\wiki-news-300d-1M-subword.vec')\n",
    "DICT2VEC_DIR = os.path.join(BASE_DIR, 'dict2vec\\dict2vec-vectors-dim100.vec')\n",
    "TEXT_DATA_DIR = os.path.join(cwd, 'training_data')\n",
    "MAX_SEQUENCE_LENGTH = 500 # how many words do we keep from each feature (title/keywords/book_title) (keep the most commons)\n",
    "MAX_NUM_WORDS = 20000 # size of the vocabulary of the model (keep the most commons)\n",
    "EMBEDDING_DIM = 100\n",
    "VALIDATION_SPLIT = 0.2\n",
    "NUMBER_OF_USED_METADATA = 3"
   ]
  },
  {
   "cell_type": "code",
   "execution_count": 2,
   "metadata": {},
   "outputs": [],
   "source": [
    "def load(fname):\n",
    "    embeddings_index = {}\n",
    "    with open(fname, encoding='utf8') as f:\n",
    "        for line in f:\n",
    "            values = line.split()\n",
    "            word = values[0]\n",
    "            coefs = np.asarray(values[1:], dtype='float32')\n",
    "            embeddings_index[word] = coefs\n",
    "    return embeddings_index       \n",
    "    "
   ]
  },
  {
   "cell_type": "raw",
   "metadata": {},
   "source": [
    "import io\n",
    "\n",
    "def load_vectors(fname):\n",
    "    fin = io.open(fname, 'r', encoding='utf-8', newline='\\n', errors='ignore')\n",
    "    n, d = map(int, fin.readline().split())\n",
    "    data = {}\n",
    "    for line in fin:\n",
    "        tokens = line.rstrip().split(' ')\n",
    "        data[tokens[0]] = map(float, tokens[1:])\n",
    "    return data"
   ]
  },
  {
   "cell_type": "markdown",
   "metadata": {},
   "source": [
    "# Load embedding vector"
   ]
  },
  {
   "cell_type": "markdown",
   "metadata": {},
   "source": [
    "first, build index mapping words in the embeddings set to their embedding vector"
   ]
  },
  {
   "cell_type": "code",
   "execution_count": 3,
   "metadata": {
    "scrolled": true
   },
   "outputs": [
    {
     "name": "stdout",
     "output_type": "stream",
     "text": [
      "Indexing word vectors.\n",
      "Found 132923 word vectors.\n"
     ]
    }
   ],
   "source": [
    "print('Indexing word vectors.')\n",
    "\n",
    "#embeddings_index = load(GLOVE_DIR) #average results\n",
    "#embeddings_index = load(FASTTEXT_DIR) #meh results\n",
    "embeddings_index = load(DICT2VEC_DIR) #good results\n",
    "\n",
    "print('Found %s word vectors.' % len(embeddings_index))"
   ]
  },
  {
   "cell_type": "code",
   "execution_count": 4,
   "metadata": {},
   "outputs": [],
   "source": [
    "# debug the 10 first item of the embeddings_index dictionnary :\n",
    "#print(*([(key, value) for key, value in embeddings_index.items()][:10]), sep='\\n'*3)"
   ]
  },
  {
   "cell_type": "markdown",
   "metadata": {},
   "source": [
    "# Load the dataset"
   ]
  },
  {
   "cell_type": "markdown",
   "metadata": {},
   "source": [
    "second, prepare text samples and their labels"
   ]
  },
  {
   "cell_type": "code",
   "execution_count": 5,
   "metadata": {},
   "outputs": [
    {
     "name": "stdout",
     "output_type": "stream",
     "text": [
      "Processing text dataset\n"
     ]
    },
    {
     "name": "stderr",
     "output_type": "stream",
     "text": [
      "Entry type thesis not standard. Not considered.\n",
      "Entry type patent not standard. Not considered.\n",
      "Cannot find unicode for SPACE WITH CEDILLA , using   instead\n",
      "Cannot find unicode for SPACE WITH CEDILLA , using   instead\n",
      "Cannot find unicode for SPACE WITH CEDILLA , using   instead\n",
      "Cannot find unicode for SPACE WITH CEDILLA , using   instead\n",
      "Cannot find unicode for SPACE WITH CEDILLA , using   instead\n",
      "Cannot find unicode for SPACE WITH CEDILLA , using   instead\n",
      "Cannot find unicode for SPACE WITH CEDILLA , using   instead\n"
     ]
    },
    {
     "name": "stdout",
     "output_type": "stream",
     "text": [
      "Found 679 texts.\n",
      "{'Crypto': 0, 'Others': 1}\n",
      "0: 416\n",
      "1: 263\n"
     ]
    }
   ],
   "source": [
    "import bibtexparser\n",
    "from bibtexparser.bparser import BibTexParser\n",
    "from latex_to_unicode import latex_to_unicode\n",
    "\n",
    "#with open('training_data/codebasedcryptocayrelnet.bib') as bibtex_file:\n",
    "#    bib_database = bibtexparser.load(bibtex_file)\n",
    "\n",
    "print('Processing text dataset')\n",
    "\n",
    "#texts = []  # list of text samples\n",
    "x_title = []\n",
    "x_keywords = []\n",
    "x_booktitle = []\n",
    "labels_index = {}  # dictionary mapping label name to numeric id\n",
    "labels = []  # list of label ids\n",
    "\n",
    "#name = \"Articles_divers\"\n",
    "#label_id = len(labels_index)\n",
    "#labels_index[name] = label_id\n",
    "for name in sorted(os.listdir(TEXT_DATA_DIR)):\n",
    "    path = os.path.join(TEXT_DATA_DIR, name)\n",
    "    if os.path.isdir(path):\n",
    "        label_id = len(labels_index)\n",
    "        labels_index[name] = label_id\n",
    "        for fname in sorted(os.listdir(path)):\n",
    "            fpath = os.path.join(path, fname)\n",
    "            with open(fpath) as bibtex_file:\n",
    "                parser = BibTexParser(interpolate_strings=False)\n",
    "\n",
    "                bib_database = bibtexparser.load(bibtex_file, parser)\n",
    "                for publi in bib_database.entries:\n",
    "                    #title = publi['title'].lower().replace(\"{}\", \"\")\n",
    "                    title = latex_to_unicode(publi['title']).lower()\n",
    "                    if \"keywords\" in  publi:\n",
    "                        keywords = latex_to_unicode(publi['keywords']).lower()\n",
    "                        #keywords = publi['keywords'].lower().replace(\"{}\", \"\")\n",
    "                    else:\n",
    "                        keywords = \"\"\n",
    "                    if \"booktitle\" in  publi:\n",
    "                        booktitle = latex_to_unicode(publi['booktitle']).lower()\n",
    "                        #booktitle = publi['booktitle'].lower().replace(\"{}\", \"\")\n",
    "                    else:\n",
    "                        booktitle = \"\"\n",
    "                    x_title.append(title)\n",
    "                    x_keywords.append(keywords)\n",
    "                    x_booktitle.append(booktitle)\n",
    "                    labels.append(label_id)\n",
    "                    \n",
    "\n",
    "# Classes\n",
    "#name = \"Articles_cryptographie\"\n",
    "#label_id = len(labels_index)\n",
    "#labels_index[name] = label_id\n",
    "\n",
    "#for publi in bib_database.entries:\n",
    "#    title = publi['title'].lower().replace(\"{}\", \"\")\n",
    "#    texts.append(title)\n",
    "#    labels.append(label_id)\n",
    "\n",
    "print('Found %s texts.' % len(x_title))\n",
    "print(labels_index)\n",
    "print(\"0:\", labels.count(0))\n",
    "print(\"1:\", labels.count(1))"
   ]
  },
  {
   "cell_type": "markdown",
   "metadata": {},
   "source": [
    "# Data augmentation"
   ]
  },
  {
   "cell_type": "markdown",
   "metadata": {},
   "source": [
    "We use the data augmentation for the minority class\n",
    "\n",
    "data augmentation: https://github.com/airbnb/artificial-adversary"
   ]
  },
  {
   "cell_type": "code",
   "execution_count": 6,
   "metadata": {},
   "outputs": [
    {
     "name": "stdout",
     "output_type": "stream",
     "text": [
      "{'Crypto': 0, 'Others': 1}\n",
      "0: 416\n",
      "1: 416\n"
     ]
    }
   ],
   "source": [
    "from Adversary import Adversary\n",
    "\n",
    "gen = Adversary() # for data augmentation\n",
    "\n",
    "n_class0 = labels.count(0)\n",
    "n_class1 = labels.count(1)\n",
    "\n",
    "imax = max(n_class0, n_class1)\n",
    "\n",
    "upsampl_class = 0\n",
    "max_class = 1\n",
    "n = 0\n",
    "if imax == n_class0:\n",
    "    upsampl_class = 1\n",
    "    max_class = 0\n",
    "    n = labels.index(1)\n",
    "    \n",
    "n_init = n\n",
    "\n",
    "while labels.count(upsampl_class) < imax:\n",
    "    \n",
    "    title = x_title[n]\n",
    "    keywords = x_keywords[n]\n",
    "    booktitle = x_booktitle[n]\n",
    "    label_id = labels[n]\n",
    "    titleGen = []\n",
    "    keywordsGen = []\n",
    "    booktitleGen = []\n",
    "    titleGen = gen.generate([title],text_sample_rate=5.0, word_sample_rate=0.5,\n",
    "                                            attacks={'synonym':1})\n",
    "    keywordsGen = gen.generate([keywords],text_sample_rate=5.0, word_sample_rate=0.5,\n",
    "                            attacks={'synonym':1})\n",
    "    booktitleGen = gen.generate([booktitle],text_sample_rate=5.0, word_sample_rate=0.5,\n",
    "                            attacks={'synonym':1})\n",
    "    x_title.append(titleGen[0][0])\n",
    "    x_keywords.append(keywordsGen[0][0])\n",
    "    x_booktitle.append(booktitleGen[0][0])\n",
    "    labels.append(label_id)\n",
    "    \n",
    "    n += 1\n",
    "    \n",
    "    if n > n_init:\n",
    "        n = n_init\n",
    "    \n",
    "print(labels_index)\n",
    "print(\"0:\", labels.count(0))\n",
    "print(\"1:\", labels.count(1))"
   ]
  },
  {
   "cell_type": "markdown",
   "metadata": {},
   "source": [
    "Then we use the data augmentation for the 2 classes"
   ]
  },
  {
   "cell_type": "code",
   "execution_count": 7,
   "metadata": {},
   "outputs": [
    {
     "name": "stdout",
     "output_type": "stream",
     "text": [
      "{'Crypto': 0, 'Others': 1}\n",
      "0: 832\n",
      "1: 832\n"
     ]
    }
   ],
   "source": [
    "imax = len(labels)\n",
    "\n",
    "for i in range(imax):\n",
    "    \n",
    "    title = x_title[i]\n",
    "    keywords = x_keywords[i]\n",
    "    booktitle = x_booktitle[i]\n",
    "    label_id = labels[i]\n",
    "    titleGen = []\n",
    "    keywordsGen = []\n",
    "    booktitleGen = []\n",
    "    titleGen = gen.generate([title],text_sample_rate=5.0, word_sample_rate=0.5,\n",
    "                                            attacks={'synonym':1})\n",
    "    keywordsGen = gen.generate([keywords],text_sample_rate=5.0, word_sample_rate=0.5,\n",
    "                            attacks={'synonym':1})\n",
    "    booktitleGen = gen.generate([booktitle],text_sample_rate=5.0, word_sample_rate=0.5,\n",
    "                            attacks={'synonym':1})\n",
    "    x_title.append(titleGen[0][0])\n",
    "    x_keywords.append(keywordsGen[0][0])\n",
    "    x_booktitle.append(booktitleGen[0][0])\n",
    "    labels.append(label_id)\n",
    "    \n",
    "print(labels_index)\n",
    "print(\"0:\", labels.count(0))\n",
    "print(\"1:\", labels.count(1))"
   ]
  },
  {
   "cell_type": "code",
   "execution_count": 8,
   "metadata": {},
   "outputs": [
    {
     "name": "stdout",
     "output_type": "stream",
     "text": [
      "Dataset length:  1664\n",
      "{'Crypto': 0, 'Others': 1}\n",
      "0: 832\n",
      "1: 832\n"
     ]
    }
   ],
   "source": [
    "print('Dataset length: ', len(x_title))\n",
    "print(labels_index)\n",
    "print(\"0:\", labels.count(0))\n",
    "print(\"1:\", labels.count(1))"
   ]
  },
  {
   "cell_type": "code",
   "execution_count": 9,
   "metadata": {},
   "outputs": [],
   "source": [
    "\n",
    "#x_title"
   ]
  },
  {
   "cell_type": "code",
   "execution_count": 10,
   "metadata": {},
   "outputs": [],
   "source": [
    "#x_keywords"
   ]
  },
  {
   "cell_type": "code",
   "execution_count": 11,
   "metadata": {
    "scrolled": false
   },
   "outputs": [],
   "source": [
    "#x_booktitle"
   ]
  },
  {
   "cell_type": "markdown",
   "metadata": {},
   "source": [
    "# Vectorization"
   ]
  },
  {
   "cell_type": "markdown",
   "metadata": {},
   "source": [
    "finally, vectorize the text samples into a 2D integer tensor"
   ]
  },
  {
   "cell_type": "code",
   "execution_count": 12,
   "metadata": {},
   "outputs": [
    {
     "name": "stdout",
     "output_type": "stream",
     "text": [
      "Found 2078 tokens, including 2078 unique tokens.\n",
      "Found 1770 tokens, including 1770 unique tokens.\n",
      "Found 1008 tokens, including 1008 unique tokens.\n",
      "Shape of data tensor: (1664, 1500)\n",
      "Shape of label tensor: (1664, 2)\n"
     ]
    }
   ],
   "source": [
    "data = []\n",
    "max_len_word_index = 0\n",
    "\n",
    "# titles\n",
    "tokenizer_title = Tokenizer(num_words=MAX_NUM_WORDS)\n",
    "tokenizer_title.fit_on_texts(x_title)\n",
    "sequences_title = tokenizer_title.texts_to_sequences(x_title)\n",
    "\n",
    "word_index = tokenizer_title.word_index\n",
    "max_len_word_index = max(max_len_word_index, len(word_index))\n",
    "data_title = pad_sequences(sequences_title, maxlen=MAX_SEQUENCE_LENGTH)\n",
    "\n",
    "print('Found {} tokens, including {} unique tokens.'.format(len(word_index), data_title.max()))\n",
    "\n",
    "# keywords\n",
    "tokenizer_keywords = Tokenizer(num_words=MAX_NUM_WORDS)\n",
    "tokenizer_keywords.fit_on_texts(x_keywords)\n",
    "sequences_keywords = tokenizer_keywords.texts_to_sequences(x_keywords)\n",
    "\n",
    "word_index = tokenizer_keywords.word_index\n",
    "max_len_word_index = max(max_len_word_index, len(word_index))\n",
    "data_keywords = pad_sequences(sequences_keywords, maxlen=MAX_SEQUENCE_LENGTH)\n",
    "\n",
    "print('Found {} tokens, including {} unique tokens.'.format(len(word_index), data_keywords.max()))\n",
    "\n",
    "# booktitle\n",
    "tokenizer_booktitle = Tokenizer(num_words=MAX_NUM_WORDS)\n",
    "tokenizer_booktitle.fit_on_texts(x_booktitle)\n",
    "sequences_booktitle = tokenizer_booktitle.texts_to_sequences(x_booktitle)\n",
    "\n",
    "word_index = tokenizer_booktitle.word_index\n",
    "max_len_word_index = max(max_len_word_index, len(word_index))\n",
    "data_booktitle = pad_sequences(sequences_booktitle, maxlen=MAX_SEQUENCE_LENGTH)\n",
    "\n",
    "print('Found {} tokens, including {} unique tokens.'.format(len(word_index), data_booktitle.max()))\n",
    "\n",
    "###\n",
    "\n",
    "data.append(data_title)\n",
    "data.append(data_keywords)\n",
    "data.append(data_booktitle)\n",
    "\n",
    "data = np.moveaxis(data,0,1)\n",
    "data = np.reshape(data,[len(x_title),MAX_SEQUENCE_LENGTH*NUMBER_OF_USED_METADATA])\n",
    "\n",
    "data = np.array(data)\n",
    "\n",
    "labels_categorical = to_categorical(np.asarray(labels))\n",
    "print('Shape of data tensor:', data.shape)\n",
    "print('Shape of label tensor:', labels_categorical.shape)"
   ]
  },
  {
   "cell_type": "markdown",
   "metadata": {},
   "source": [
    "# Split the dataset"
   ]
  },
  {
   "cell_type": "markdown",
   "metadata": {},
   "source": [
    "split the data into a training set and a validation set"
   ]
  },
  {
   "cell_type": "code",
   "execution_count": 13,
   "metadata": {},
   "outputs": [],
   "source": [
    "from sklearn.model_selection import train_test_split\n",
    "\n",
    "x_train, x_val, y_train, y_val = train_test_split(data, labels_categorical, test_size=VALIDATION_SPLIT, \n",
    "                                                  random_state=0, stratify=labels_categorical)\n"
   ]
  },
  {
   "cell_type": "code",
   "execution_count": 14,
   "metadata": {},
   "outputs": [
    {
     "name": "stdout",
     "output_type": "stream",
     "text": [
      "Preparing embedding matrix.\n"
     ]
    }
   ],
   "source": [
    "print('Preparing embedding matrix.')\n",
    "# prepare embedding matrix\n",
    "num_words = min(MAX_NUM_WORDS, max_len_word_index) + 1\n",
    "embedding_matrix = np.zeros((num_words, EMBEDDING_DIM))\n",
    "for word, i in word_index.items():\n",
    "    if i > MAX_NUM_WORDS:\n",
    "        continue\n",
    "    embedding_vector = embeddings_index.get(word)\n",
    "    if embedding_vector is not None:\n",
    "        # words not found in embedding index will be all-zeros.\n",
    "        embedding_matrix[i] = embedding_vector\n",
    "\n",
    "# load pre-trained word embeddings into an Embedding layer\n",
    "# note that we set trainable = False so as to keep the embeddings fixed\n",
    "embedding_layer = Embedding(num_words,\n",
    "                            EMBEDDING_DIM,\n",
    "                            embeddings_initializer=Constant(embedding_matrix),\n",
    "                            input_length=MAX_SEQUENCE_LENGTH*NUMBER_OF_USED_METADATA,\n",
    "                            trainable=False)"
   ]
  },
  {
   "cell_type": "markdown",
   "metadata": {},
   "source": [
    "# Create training model"
   ]
  },
  {
   "cell_type": "code",
   "execution_count": 15,
   "metadata": {},
   "outputs": [
    {
     "name": "stdout",
     "output_type": "stream",
     "text": [
      "Create training model.\n"
     ]
    }
   ],
   "source": [
    "print('Create training model.')\n",
    "\n",
    "# train a 1D convnet with global maxpooling\n",
    "sequence_input = Input(shape=(MAX_SEQUENCE_LENGTH*NUMBER_OF_USED_METADATA,), dtype='int32')\n",
    "embedded_sequences = embedding_layer(sequence_input)\n",
    "x = Conv1D(128, 5, activation='relu')(embedded_sequences)\n",
    "x = MaxPooling1D(5)(x)\n",
    "x = Conv1D(128, 5, activation='relu')(x)\n",
    "x = MaxPooling1D(5)(x)\n",
    "x = Conv1D(128, 5, activation='relu')(x)\n",
    "x = GlobalMaxPooling1D()(x)\n",
    "x = Dense(128, activation='relu')(x)\n",
    "preds = Dense(len(labels_index), activation='softmax')(x)\n",
    "\n",
    "model = Model(sequence_input, preds)\n",
    "model.compile(loss='categorical_crossentropy',\n",
    "              optimizer='rmsprop',\n",
    "              metrics=['acc'])"
   ]
  },
  {
   "cell_type": "code",
   "execution_count": 16,
   "metadata": {},
   "outputs": [
    {
     "name": "stdout",
     "output_type": "stream",
     "text": [
      "_________________________________________________________________\n",
      "Layer (type)                 Output Shape              Param #   \n",
      "=================================================================\n",
      "input_1 (InputLayer)         (None, 1500)              0         \n",
      "_________________________________________________________________\n",
      "embedding_1 (Embedding)      (None, 1500, 100)         207900    \n",
      "_________________________________________________________________\n",
      "conv1d_1 (Conv1D)            (None, 1496, 128)         64128     \n",
      "_________________________________________________________________\n",
      "max_pooling1d_1 (MaxPooling1 (None, 299, 128)          0         \n",
      "_________________________________________________________________\n",
      "conv1d_2 (Conv1D)            (None, 295, 128)          82048     \n",
      "_________________________________________________________________\n",
      "max_pooling1d_2 (MaxPooling1 (None, 59, 128)           0         \n",
      "_________________________________________________________________\n",
      "conv1d_3 (Conv1D)            (None, 55, 128)           82048     \n",
      "_________________________________________________________________\n",
      "global_max_pooling1d_1 (Glob (None, 128)               0         \n",
      "_________________________________________________________________\n",
      "dense_1 (Dense)              (None, 128)               16512     \n",
      "_________________________________________________________________\n",
      "dense_2 (Dense)              (None, 2)                 258       \n",
      "=================================================================\n",
      "Total params: 452,894\n",
      "Trainable params: 244,994\n",
      "Non-trainable params: 207,900\n",
      "_________________________________________________________________\n"
     ]
    }
   ],
   "source": [
    "#from keras.utils import plot_model\n",
    "#plot_model(model, to_file='model.png')\n",
    "model.summary()"
   ]
  },
  {
   "cell_type": "code",
   "execution_count": 17,
   "metadata": {},
   "outputs": [],
   "source": [
    "#print(*[bla.shape for bla in [x_train, x_val, y_train, y_val]], sep=\"\\n\")"
   ]
  },
  {
   "cell_type": "code",
   "execution_count": 18,
   "metadata": {},
   "outputs": [],
   "source": [
    "#y_train[:10]"
   ]
  },
  {
   "cell_type": "code",
   "execution_count": 19,
   "metadata": {},
   "outputs": [
    {
     "data": {
      "text/plain": [
       "2077"
      ]
     },
     "execution_count": 19,
     "metadata": {},
     "output_type": "execute_result"
    }
   ],
   "source": [
    "x_train.max()"
   ]
  },
  {
   "cell_type": "markdown",
   "metadata": {},
   "source": [
    "# Train the model"
   ]
  },
  {
   "cell_type": "code",
   "execution_count": 20,
   "metadata": {},
   "outputs": [
    {
     "name": "stdout",
     "output_type": "stream",
     "text": [
      "Training model\n",
      "Train on 1331 samples, validate on 333 samples\n",
      "Epoch 1/10\n",
      "1331/1331 [==============================] - 5s 4ms/step - loss: 0.6212 - acc: 0.6416 - val_loss: 0.4985 - val_acc: 0.6997\n",
      "Epoch 2/10\n",
      "1331/1331 [==============================] - 0s 299us/step - loss: 0.4711 - acc: 0.7686 - val_loss: 0.4796 - val_acc: 0.7027\n",
      "Epoch 3/10\n",
      "1331/1331 [==============================] - 0s 306us/step - loss: 0.3932 - acc: 0.8340 - val_loss: 0.3246 - val_acc: 0.8769\n",
      "Epoch 4/10\n",
      "1331/1331 [==============================] - 0s 302us/step - loss: 0.3229 - acc: 0.8588 - val_loss: 0.2708 - val_acc: 0.9009\n",
      "Epoch 5/10\n",
      "1331/1331 [==============================] - 0s 298us/step - loss: 0.3139 - acc: 0.8978 - val_loss: 0.2478 - val_acc: 0.9189\n",
      "Epoch 6/10\n",
      "1331/1331 [==============================] - 0s 297us/step - loss: 0.1161 - acc: 0.9715 - val_loss: 0.1709 - val_acc: 0.9369\n",
      "Epoch 7/10\n",
      "1331/1331 [==============================] - 0s 294us/step - loss: 0.2128 - acc: 0.9376 - val_loss: 0.3628 - val_acc: 0.8018\n",
      "Epoch 8/10\n",
      "1331/1331 [==============================] - 0s 294us/step - loss: 0.0674 - acc: 0.9872 - val_loss: 0.1335 - val_acc: 0.9489\n",
      "Epoch 9/10\n",
      "1331/1331 [==============================] - 0s 294us/step - loss: 0.0528 - acc: 0.9835 - val_loss: 0.5658 - val_acc: 0.7628\n",
      "Epoch 10/10\n",
      "1331/1331 [==============================] - 0s 293us/step - loss: 0.1805 - acc: 0.9459 - val_loss: 0.1048 - val_acc: 0.9610\n"
     ]
    }
   ],
   "source": [
    "import matplotlib.pyplot as plt\n",
    "\n",
    "print('Training model')\n",
    "\n",
    "history = model.fit(x_train, y_train,\n",
    "          batch_size=128,\n",
    "          epochs=10,\n",
    "          validation_data=(x_val, y_val))"
   ]
  },
  {
   "cell_type": "markdown",
   "metadata": {},
   "source": [
    "# Plot the result"
   ]
  },
  {
   "cell_type": "code",
   "execution_count": 21,
   "metadata": {},
   "outputs": [
    {
     "name": "stdout",
     "output_type": "stream",
     "text": [
      "plot model\n"
     ]
    },
    {
     "data": {
      "image/png": "[encoded data removed]",
      "text/plain": [
       "<Figure size 432x288 with 1 Axes>"
      ]
     },
     "metadata": {
      "needs_background": "light"
     },
     "output_type": "display_data"
    },
    {
     "data": {
      "image/png": "[encoded data removed]",
      "text/plain": [
       "<Figure size 432x288 with 1 Axes>"
      ]
     },
     "metadata": {
      "needs_background": "light"
     },
     "output_type": "display_data"
    }
   ],
   "source": [
    "print('plot model')\n",
    "\n",
    "# Plot training & validation accuracy values\n",
    "plt.plot(history.history['acc'])\n",
    "plt.plot(history.history['val_acc'])\n",
    "plt.title('Model accuracy')\n",
    "plt.ylabel('Accuracy')\n",
    "plt.xlabel('Epoch')\n",
    "plt.legend(['Train', 'Test'], loc='upper left')\n",
    "plt.show()\n",
    "\n",
    "# Plot training & validation loss values\n",
    "plt.plot(history.history['loss'])\n",
    "plt.plot(history.history['val_loss'])\n",
    "plt.title('Model loss')\n",
    "plt.ylabel('Loss')\n",
    "plt.xlabel('Epoch')\n",
    "plt.legend(['Train', 'Test'], loc='upper left')\n",
    "plt.show()"
   ]
  },
  {
   "cell_type": "markdown",
   "metadata": {},
   "source": [
    "# Save the model"
   ]
  },
  {
   "cell_type": "code",
   "execution_count": 22,
   "metadata": {},
   "outputs": [],
   "source": [
    "import pickle\n",
    "\n",
    "# https://www.opencodez.com/python/text-classification-using-keras.htm\n",
    "# Below code saves the model as well as tokenizer. We have to save our tokenizer because it is our vocabulary.\n",
    "# The same tokenizer and vocabulary have to be used for accurate prediction.\n",
    "\n",
    "# creates a HDF5 file\n",
    "model.save('model.h5')\n",
    "# Save Tokenizer i.e. Vocabulary\n",
    "with open('tokenizer_title.pickle', 'wb') as handle:\n",
    "    pickle.dump(tokenizer_title, handle, protocol=pickle.HIGHEST_PROTOCOL)\n",
    "with open('tokenizer_keywords.pickle', 'wb') as handle:\n",
    "    pickle.dump(tokenizer_keywords, handle, protocol=pickle.HIGHEST_PROTOCOL)\n",
    "with open('tokenizer_booktitle.pickle', 'wb') as handle:\n",
    "    pickle.dump(tokenizer_booktitle, handle, protocol=pickle.HIGHEST_PROTOCOL)"
   ]
  },
  {
   "cell_type": "markdown",
   "metadata": {},
   "source": [
    "# Load the model"
   ]
  },
  {
   "cell_type": "markdown",
   "metadata": {},
   "source": [
    "See Predict.ipbn"
   ]
  },
  {
   "cell_type": "markdown",
   "metadata": {},
   "source": [
    "# Display the confusion matrix"
   ]
  },
  {
   "cell_type": "code",
   "execution_count": 23,
   "metadata": {},
   "outputs": [],
   "source": [
    "# Run classifier\n",
    "y_pred = model.predict(x_val)\n",
    "\n",
    "# convert output label: one hot encodeing -> integer encoding e.g.: [0, 0, 1] -> 2\n",
    "y_pred_encoded = np.argmax(y_pred, -1)\n",
    "y_val_encoded = np.argmax(y_val , -1)"
   ]
  },
  {
   "cell_type": "code",
   "execution_count": 24,
   "metadata": {},
   "outputs": [
    {
     "data": {
      "text/plain": [
       "array([1, 0, 0, 1, 0, 0, 1, 0, 1, 1, 0, 1, 1, 1, 1, 1, 0, 0, 0, 1, 0, 1,\n",
       "       0, 1, 0, 1, 1, 1, 0, 0, 1, 1, 1, 1, 1, 1, 0, 0, 1, 1, 1, 1, 1, 0,\n",
       "       0, 0, 0, 1, 1, 1, 1, 1, 1, 1, 1, 0, 1, 0, 1, 0, 1, 1, 1, 1, 1, 1,\n",
       "       0, 1, 1, 1, 1, 0, 0, 1, 0, 1, 1, 1, 0, 1, 0, 1, 0, 1, 1, 1, 0, 0,\n",
       "       1, 0, 0, 0, 1, 0, 1, 1, 0, 0, 1, 1, 0, 0, 0, 0, 0, 1, 1, 0, 0, 0,\n",
       "       0, 0, 1, 1, 0, 1, 0, 1, 1, 1, 0, 0, 1, 0, 0, 1, 0, 1, 1, 0, 1, 0,\n",
       "       1, 1, 1, 1, 0, 1, 1, 0, 1, 0, 0, 1, 0, 0, 1, 1, 1, 0, 0, 0, 0, 1,\n",
       "       1, 0, 0, 0, 1, 0, 1, 0, 0, 1, 0, 0, 0, 0, 1, 0, 1, 0, 1, 1, 0, 0,\n",
       "       1, 1, 0, 1, 1, 0, 0, 0, 0, 0, 0, 0, 0, 1, 0, 0, 1, 1, 0, 1, 1, 0,\n",
       "       0, 1, 0, 1, 1, 1, 0, 0, 1, 1, 1, 0, 0, 0, 1, 1, 1, 1, 1, 0, 1, 1,\n",
       "       0, 0, 0, 1, 0, 0, 0, 0, 0, 0, 1, 0, 1, 1, 0, 1, 1, 1, 0, 0, 1, 0,\n",
       "       1, 0, 1, 0, 0, 1, 0, 0, 0, 0, 0, 1, 0, 0, 1, 1, 1, 0, 1, 1, 0, 0,\n",
       "       0, 1, 0, 1, 0, 1, 1, 0, 0, 0, 1, 1, 0, 0, 1, 0, 1, 1, 0, 1, 1, 0,\n",
       "       0, 0, 0, 0, 0, 0, 1, 0, 0, 1, 0, 0, 0, 0, 0, 0, 1, 0, 0, 1, 1, 0,\n",
       "       0, 1, 1, 0, 1, 0, 1, 1, 0, 1, 1, 1, 0, 1, 1, 0, 1, 1, 1, 0, 1, 0,\n",
       "       1, 1, 0], dtype=int64)"
      ]
     },
     "execution_count": 24,
     "metadata": {},
     "output_type": "execute_result"
    }
   ],
   "source": [
    "y_val_encoded"
   ]
  },
  {
   "cell_type": "code",
   "execution_count": 25,
   "metadata": {},
   "outputs": [
    {
     "name": "stdout",
     "output_type": "stream",
     "text": [
      "              precision    recall  f1-score   support\n",
      "\n",
      "      Crypto       0.96      0.96      0.96       166\n",
      "      Others       0.96      0.96      0.96       167\n",
      "\n",
      "   micro avg       0.96      0.96      0.96       333\n",
      "   macro avg       0.96      0.96      0.96       333\n",
      "weighted avg       0.96      0.96      0.96       333\n",
      "\n"
     ]
    }
   ],
   "source": [
    "from sklearn.metrics import classification_report\n",
    "\n",
    "print(classification_report(y_val_encoded, y_pred_encoded, target_names=labels_index))\n",
    "\n",
    "# Precision : how many selected items are relevant?\n",
    "# Recall : how many relevant items are selected?"
   ]
  },
  {
   "cell_type": "code",
   "execution_count": 26,
   "metadata": {},
   "outputs": [
    {
     "name": "stdout",
     "output_type": "stream",
     "text": [
      "Confusion matrix, without normalization\n",
      "[[160   6]\n",
      " [  7 160]]\n",
      "Normalized confusion matrix\n",
      "[[0.96 0.04]\n",
      " [0.04 0.96]]\n"
     ]
    },
    {
     "data": {
      "image/png": "[encoded data removed]",
      "text/plain": [
       "<Figure size 432x288 with 2 Axes>"
      ]
     },
     "metadata": {
      "needs_background": "light"
     },
     "output_type": "display_data"
    },
    {
     "data": {
      "image/png": "[encoded data removed]",
      "text/plain": [
       "<Figure size 432x288 with 2 Axes>"
      ]
     },
     "metadata": {
      "needs_background": "light"
     },
     "output_type": "display_data"
    }
   ],
   "source": [
    "from sklearn.metrics import confusion_matrix\n",
    "import itertools\n",
    "\n",
    "def plot_confusion_matrix(cm, classes,\n",
    "                          normalize=False,\n",
    "                          title='Confusion matrix',\n",
    "                          cmap=plt.cm.Blues):\n",
    "    \"\"\"\n",
    "    This function prints and plots the confusion matrix.\n",
    "    Normalization can be applied by setting `normalize=True`.\n",
    "    \"\"\"\n",
    "    if normalize:\n",
    "        cm = cm.astype('float') / cm.sum(axis=1)[:, np.newaxis]\n",
    "        print(\"Normalized confusion matrix\")\n",
    "    else:\n",
    "        print('Confusion matrix, without normalization')\n",
    "\n",
    "    print(cm)\n",
    "\n",
    "    plt.imshow(cm, interpolation='nearest', cmap=cmap)\n",
    "    plt.title(title)\n",
    "    plt.colorbar()\n",
    "    tick_marks = np.arange(len(classes))\n",
    "    plt.xticks(tick_marks, classes, rotation=45)\n",
    "    plt.yticks(tick_marks, classes)\n",
    "\n",
    "    fmt = '.2f' if normalize else 'd'\n",
    "    thresh = cm.max() / 2.\n",
    "    for i, j in itertools.product(range(cm.shape[0]), range(cm.shape[1])):\n",
    "        plt.text(j, i, format(cm[i, j], fmt),\n",
    "                 horizontalalignment=\"center\",\n",
    "                 color=\"white\" if cm[i, j] > thresh else \"black\")\n",
    "\n",
    "    plt.ylabel('True label')\n",
    "    plt.xlabel('Predicted label')\n",
    "    plt.tight_layout()\n",
    "\n",
    "\n",
    "# Compute confusion matrix\n",
    "cnf_matrix = confusion_matrix(y_val_encoded, y_pred_encoded)\n",
    "np.set_printoptions(precision=2)\n",
    "\n",
    "# Plot non-normalized confusion matrix\n",
    "plt.figure()\n",
    "plot_confusion_matrix(cnf_matrix, classes=labels_index,\n",
    "                      title='Confusion matrix, without normalization')\n",
    "\n",
    "# Plot normalized confusion matrix\n",
    "plt.figure()\n",
    "plot_confusion_matrix(cnf_matrix, classes=labels_index, normalize=True,\n",
    "                      title='Normalized confusion matrix')\n",
    "\n",
    "plt.show()"
   ]
  },
  {
   "cell_type": "markdown",
   "metadata": {},
   "source": [
    "# Display wrongly classified articles"
   ]
  },
  {
   "cell_type": "code",
   "execution_count": 27,
   "metadata": {},
   "outputs": [],
   "source": [
    "# Run classifier\n",
    "y_pred = model.predict(data)\n",
    "\n",
    "# convert output label: one hot encodeing -> integer encoding e.g.: [0, 0, 1] -> 2\n",
    "y_pred_encoded = np.argmax(y_pred, -1)\n",
    "y_val_encoded = np.argmax(labels_categorical , -1)\n",
    "n = []\n",
    "for i in range(len(y_pred_encoded)):\n",
    "    if y_val_encoded[i] != y_pred_encoded[i]:\n",
    "        n.append(i)\n",
    "\n"
   ]
  },
  {
   "cell_type": "code",
   "execution_count": 28,
   "metadata": {},
   "outputs": [
    {
     "name": "stdout",
     "output_type": "stream",
     "text": [
      "\n",
      "{'Crypto': 0, 'Others': 1}\n",
      "\n"
     ]
    }
   ],
   "source": [
    "print(\"\")\n",
    "print(labels_index)\n",
    "print(\"\")"
   ]
  },
  {
   "cell_type": "code",
   "execution_count": 29,
   "metadata": {
    "scrolled": false
   },
   "outputs": [
    {
     "name": "stdout",
     "output_type": "stream",
     "text": [
      "Number of wrongly classified articles:  13\n",
      "Number of articles:  1664\n",
      "\n",
      "{'Crypto': 0, 'Others': 1}\n",
      "\n",
      "True class:  0\n",
      "Predicted class:  1\n",
      "Title: linearization attacks against syndrome based hashes\n",
      "Booktitle: progress cryptology - indocrypt 2007, 8\\textsuperscriptth international\n",
      "conference on cryptology, volume 4859 of lecture notes computer\n",
      "science, springer\n",
      "Keywords: \n",
      "\n",
      "True class:  0\n",
      "Predicted class:  1\n",
      "Title: hard and easy components of collision search in the zémor-tillich hash function: new attacks and reduced variants with equivalent security\n",
      "Booktitle: ct-rsa 2009\n",
      "Keywords: \n",
      "\n",
      "True class:  0\n",
      "Predicted class:  1\n",
      "Title: représentation en objets vidéo pour un codage progressif et concurrentiel des séquences d'images\n",
      "Booktitle: \n",
      "Keywords: antialiasing ; mots clés : segmentation en objets vidéo ; segmentation long terme ; modèle d'objet vidéo ; fonctionelle d'énergie ; clustering ; maillage actif ; mosaïque ; codage vidéo ; codage d'objet vidéo ; décorrélation mouvement texture forme ; hiérarchisation : scalabilté ; ondelettes spatiotemporelles ; ondelette 3d ; codage de contour ; codage de forme ; prolongement : padding ; codage dynamique ; codage concurrentiel ; optimisation débit-distorsion ; répartition des débits ; antialiasing.\n",
      "\n",
      "True class:  0\n",
      "Predicted class:  1\n",
      "Title: on-the-fly trace generation and textual trace analysis and their applications to the analysis of cryptographic protocols\n",
      "Booktitle: joint 12th ifip wg 6.1 international conference on formal methods for open object-based distributed systems (fmoods) / 30th ifip wg 6.1 international conference on formal techniques for networked and distributed systems (forte)\n",
      "Keywords: cryptographic protocols ; formal methods for cryptographic protocols ; model checking\n",
      "\n",
      "True class:  1\n",
      "Predicted class:  0\n",
      "Title: application of rank metric codes in digital image watermarking\n",
      "Booktitle: \n",
      "Keywords: content erasure ; copy-paste ; luminance modification ; rank metric ; watermarking ; error correcting codes\n",
      "\n",
      "True class:  1\n",
      "Predicted class:  0\n",
      "Title: java card operand stack : fault attacks, combined attacks and countermeasures\n",
      "Booktitle: 10th smart card research and advanced applications (cardis)\n",
      "Keywords: java card ; fault attacks ; logical attacks ; combined attacks ; countermeasures\n",
      "\n",
      "True class:  1\n",
      "Predicted class:  0\n",
      "Title: motor noise influence on acceleration perception in a dynamic driving simulator\n",
      "Booktitle: acoustics 2012\n",
      "Keywords: motor noise ; multimodal perception ; synthesis control ; driving simulation\n",
      "\n",
      "True class:  1\n",
      "Predicted class:  0\n",
      "Title: a blockcipher based authentication encryption\n",
      "Booktitle: international conference on availability, reliability, and security (cd-ares)\n",
      "Keywords: blockcipher ; constrained device ; authentication ; compression function\n",
      "\n",
      "True class:  1\n",
      "Predicted class:  0\n",
      "Title: observational proofs by rewriting\n",
      "Booktitle: \n",
      "Keywords: observational proofs ; preuves observations\n",
      "\n",
      "True class:  0\n",
      "Predicted class:  1\n",
      "Title: linearization attacks against syndrome based hashes\n",
      "Booktitle: progress cryptology indocrypt 2007 2007, 8\\textsuperscriptth conference conference on cryptology, volume 4859 of lecture notes scientific springer springer\n",
      "Keywords: \n",
      "\n",
      "True class:  0\n",
      "Predicted class:  1\n",
      "Title: efficient pivotal management scheme for secured application levels multicast\n",
      "Booktitle: 12th ieee symposium on computers and communications\n",
      "Keywords: key management ; application level multicast ; multicast\n",
      "\n",
      "True class:  1\n",
      "Predicted class:  0\n",
      "Title: motor noise influences on acceleration perception in a dynamic driving simulator\n",
      "Booktitle: acoustics 2012\n",
      "Keywords: motors loudness ; multimodal synthesis ; driving control ; driving simulation\n",
      "\n",
      "True class:  1\n",
      "Predicted class:  0\n",
      "Title: a dynamic joint protocols selection technique to performing collaborative tasks\n",
      "Booktitle: global northern and eastern european conference on multi-agent systems\n",
      "Keywords: \n",
      "\n"
     ]
    }
   ],
   "source": [
    "print(\"Number of wrongly classified articles: \", len(n))\n",
    "print(\"Number of articles: \", len(data))\n",
    "print(\"\")\n",
    "print(labels_index)\n",
    "print(\"\")\n",
    "for k in n:\n",
    "    print(\"True class: \", y_val_encoded[k])\n",
    "    print(\"Predicted class: \", y_pred_encoded[k])\n",
    "    print(\"Title:\", x_title[k])\n",
    "    print(\"Booktitle:\",x_booktitle[k])\n",
    "    print(\"Keywords:\",x_keywords[k])\n",
    "    print(\"\")"
   ]
  },
  {
   "cell_type": "code",
   "execution_count": 30,
   "metadata": {},
   "outputs": [
    {
     "data": {
      "text/plain": [
       "0"
      ]
     },
     "execution_count": 30,
     "metadata": {},
     "output_type": "execute_result"
    }
   ],
   "source": [
    "labels_index.get('Crypto')"
   ]
  }
 ],
 "metadata": {
  "kernelspec": {
   "display_name": "Python 3",
   "language": "python",
   "name": "python3"
  },
  "language_info": {
   "codemirror_mode": {
    "name": "ipython",
    "version": 3
   },
   "file_extension": ".py",
   "mimetype": "text/x-python",
   "name": "python",
   "nbconvert_exporter": "python",
   "pygments_lexer": "ipython3",
   "version": "3.6.7"
  }
 },
 "nbformat": 4,
 "nbformat_minor": 2
}
