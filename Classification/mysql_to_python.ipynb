{
 "cells": [
  {
   "cell_type": "code",
   "execution_count": 1,
   "metadata": {},
   "outputs": [],
   "source": [
    "config = {\n",
    "    \"user\": \"root\",\n",
    "    \"password\": \"tseinfo\",\n",
    "    \"database\": \"pri_database\",\n",
    "    \"host\": \"localhost\",\n",
    "    \"port\": 3306\n",
    "}"
   ]
  },
  {
   "cell_type": "code",
   "execution_count": 2,
   "metadata": {},
   "outputs": [],
   "source": [
    "posts_query = \"SELECT post_id, title, date, url, book_title FROM posts\"\n",
    "\n",
    "keywords_of_a_post_query = (\"SELECT KEYWORD_NAME FROM posts_keywords pk \"\n",
    "                            \"JOIN keywords k \"\n",
    "                            \"ON pk.KEYWORD_ID = k.KEYWORD_ID \"\n",
    "                            \"WHERE pk.POST_ID = {};\")\n",
    "\n",
    "posts_between_dates_query = posts_query + \" WHERE date BETWEEN '{}' AND '{}'\""
   ]
  },
  {
   "cell_type": "code",
   "execution_count": 3,
   "metadata": {},
   "outputs": [],
   "source": [
    "try:\n",
    "    import mysql.connector\n",
    "except ModuleNotFoundError:\n",
    "    import sys\n",
    "    print(\"Error: You need to `pip install mysql-connector-python`\", file=sys.stderr)"
   ]
  },
  {
   "cell_type": "code",
   "execution_count": 4,
   "metadata": {},
   "outputs": [],
   "source": [
    "cursor = None\n",
    "cnx = None\n",
    "\n",
    "def connect():\n",
    "    global cursor, cnx\n",
    "    #print(\"Connecting to database...\")\n",
    "    cnx = mysql.connector.connect(**config)\n",
    "    cursor = cnx.cursor()\n",
    "    cnx.autocommit = True\n",
    "\n",
    "def disconnect():\n",
    "    global cursor, cnx\n",
    "    cursor.close()\n",
    "    cnx.close()\n",
    "\n",
    "def query(query, fetch=True, close_connexion=True, limit_count=None, limit_offset=0):\n",
    "    global cursor, cnx\n",
    "    if limit_count != None:\n",
    "        query = query + \" LIMIT {}, {}\".format(limit_offset, limit_count)\n",
    "    try:\n",
    "        cursor.execute(query)\n",
    "    except AttributeError: # cursor is None\n",
    "        connect()\n",
    "        cursor.execute(query)\n",
    "    except mysql.connector.errors.ProgrammingError: # cursor is not connected\n",
    "        connect()\n",
    "        cursor.execute(query)\n",
    "    finally:\n",
    "        #print(\"executed query:\\n\", query) # useful for debugging\n",
    "        if fetch:\n",
    "            result = cursor.fetchall()\n",
    "        if close_connexion:\n",
    "            disconnect()\n",
    "        if fetch:\n",
    "            return result"
   ]
  },
  {
   "cell_type": "code",
   "execution_count": 5,
   "metadata": {},
   "outputs": [],
   "source": [
    "def print_all_articles(limit=None):\n",
    "    results = query(posts_query, limit_count=limit)\n",
    "    for (post_id, title, date, url, book_title) in results:\n",
    "        print(\"{:%d %b %Y}: {}\".format(date, title))\n",
    "        print(\" | url:\", url)"
   ]
  },
  {
   "cell_type": "code",
   "execution_count": 6,
   "metadata": {},
   "outputs": [
    {
     "name": "stdout",
     "output_type": "stream",
     "text": [
      "26 Jan 2019: assessment of the key-reuse resilience of newhope\n",
      " | url: https://eprint.iacr.org/2019/075\n",
      "26 Jan 2019: efficient and secure multiparty computation from fixed-key block ciphers\n",
      " | url: https://eprint.iacr.org/2019/074\n",
      "26 Jan 2019: destructive privacy and mutual authentication in vaudenay's rfid model\n",
      " | url: https://eprint.iacr.org/2019/073\n",
      "26 Jan 2019: zeroct: improving zerocoin with confidential transactions and more\n",
      " | url: https://eprint.iacr.org/2019/072\n",
      "26 Jan 2019: repeatable oblivious shuffling of large outsourced data blocks\n",
      " | url: https://eprint.iacr.org/2019/071\n"
     ]
    }
   ],
   "source": [
    "print_all_articles(limit=5)"
   ]
  },
  {
   "cell_type": "code",
   "execution_count": 7,
   "metadata": {},
   "outputs": [],
   "source": [
    "def print_all_articles_with_info(limit=None):\n",
    "    results = query(posts_query, limit_count=limit, close_connexion=False)\n",
    "    for (post_id, title, date, url, book_title) in results:\n",
    "        print(\"{:%d %b %Y}: {}\".format(date, title))\n",
    "        print(\" | title:\", title)\n",
    "        print(\" | book title:\", book_title)\n",
    "        keywords = []\n",
    "        kw_results = query(keywords_of_a_post_query.format(post_id), close_connexion=False)\n",
    "        for fields in kw_results:\n",
    "            keywords.append(fields[0]) # fields[0] = keyword field\n",
    "        print(\" |\", len(keywords), \"keywords:\", \" ; \".join(keywords))\n",
    "        disconnect()"
   ]
  },
  {
   "cell_type": "code",
   "execution_count": 8,
   "metadata": {},
   "outputs": [
    {
     "name": "stdout",
     "output_type": "stream",
     "text": [
      "26 Jan 2019: assessment of the key-reuse resilience of newhope\n",
      " | title: assessment of the key-reuse resilience of newhope\n",
      " | book title: None\n",
      " | 4 keywords: public-key cryptography / post-quantum cryptography ; lattice based cryptography ; active attack ; side channels\n",
      "26 Jan 2019: efficient and secure multiparty computation from fixed-key block ciphers\n",
      " | title: efficient and secure multiparty computation from fixed-key block ciphers\n",
      " | book title: None\n",
      " | 3 keywords: cryptographic protocols / random permutation mode ; secure computation ; \n",
      "26 Jan 2019: destructive privacy and mutual authentication in vaudenay's rfid model\n",
      " | title: destructive privacy and mutual authentication in vaudenay's rfid model\n",
      " | book title: None\n",
      " | 3 keywords: cryptographic protocols / rfid scheme ; security ; privacy\n",
      "26 Jan 2019: zeroct: improving zerocoin with confidential transactions and more\n",
      " | title: zeroct: improving zerocoin with confidential transactions and more\n",
      " | book title: None\n",
      " | 4 keywords: applications / zero knowledge ; rsa ; discrete logarithm problem ; anonymity\n",
      "26 Jan 2019: repeatable oblivious shuffling of large outsourced data blocks\n",
      " | title: repeatable oblivious shuffling of large outsourced data blocks\n",
      " | book title: None\n",
      " | 3 keywords: cryptographic protocols / oblivious shuffling ; data outsourcing ; cloud computing\n"
     ]
    }
   ],
   "source": [
    "print_all_articles_with_info(limit=5)"
   ]
  },
  {
   "cell_type": "code",
   "execution_count": 9,
   "metadata": {},
   "outputs": [],
   "source": [
    "def get_prints(limit=None):\n",
    "    Ids, Titles, Book_titles, Keywords = [], [], [], []\n",
    "    results = query(posts_query, limit_count=limit, close_connexion=False)\n",
    "    for (post_id, title, date, url, book_title) in results:\n",
    "        #print(\"{:%d %b %Y}: {}\".format(date, title))\n",
    "        #print(\" | title:\", title)\n",
    "        #print(\" | book title:\", book_title)\n",
    "        keywords = []\n",
    "        kw_results = query(keywords_of_a_post_query.format(post_id), close_connexion=False)\n",
    "        for fields in kw_results:\n",
    "            keywords.append(fields[0]) # fields[0] = keyword field\n",
    "        #print(\" |\", len(keywords), \"keywords:\", \" ; \".join(keywords))\n",
    "        Ids.append(post_id)\n",
    "        Titles.append(title if title else \"\")                # if None, put \"\" instead\n",
    "        Book_titles.append(book_title if book_title else \"\") # if None, put \"\" instead\n",
    "        Keywords.append(keywords if keywords else \"\")        # if None, put \"\" instead\n",
    "    disconnect()\n",
    "    return Ids, Titles, Book_titles, Keywords"
   ]
  },
  {
   "cell_type": "code",
   "execution_count": 10,
   "metadata": {},
   "outputs": [],
   "source": [
    "x_ids, x_titles, x_booktitles, x_keywords = get_prints()"
   ]
  },
  {
   "cell_type": "code",
   "execution_count": 11,
   "metadata": {},
   "outputs": [
    {
     "name": "stdout",
     "output_type": "stream",
     "text": [
      "['assessment of the key-reuse resilience of newhope', 'efficient and secure multiparty computation from fixed-key block ciphers', \"destructive privacy and mutual authentication in vaudenay's rfid model\", 'zeroct: improving zerocoin with confidential transactions and more', 'repeatable oblivious shuffling of large outsourced data blocks']\n",
      "\n",
      "\n",
      "['', '', '', '', '']\n",
      "\n",
      "\n",
      "[['public-key cryptography / post-quantum cryptography', 'lattice based cryptography', 'active attack', 'side channels'], ['cryptographic protocols / random permutation mode', 'secure computation', ''], ['cryptographic protocols / rfid scheme', 'security', 'privacy'], ['applications / zero knowledge', 'rsa', 'discrete logarithm problem', 'anonymity'], ['cryptographic protocols / oblivious shuffling', 'data outsourcing', 'cloud computing']]\n"
     ]
    }
   ],
   "source": [
    "print(x_titles[:5], x_booktitles[:5], x_keywords[:5], sep = '\\n\\n\\n')"
   ]
  },
  {
   "cell_type": "code",
   "execution_count": 12,
   "metadata": {},
   "outputs": [],
   "source": [
    "import datetime\n",
    "\n",
    "def print_articles_publicated_between(start_year, end_year, limit=None):\n",
    "    results = query(posts_between_dates_query.format(datetime.date(start_year, 1, 1),\n",
    "                                                     datetime.date(end_year, 12, 31)),\n",
    "                    limit_count=limit)\n",
    "    for (post_id, title, date, url, book_title) in results:\n",
    "        print(\"{:%d %b %Y}: {}\".format(date, title))\n",
    "        print(\" | title:\", title)\n",
    "        print(\" | book title:\", book_title)"
   ]
  },
  {
   "cell_type": "code",
   "execution_count": 13,
   "metadata": {},
   "outputs": [
    {
     "name": "stdout",
     "output_type": "stream",
     "text": [
      "26 Jan 2019: assessment of the key-reuse resilience of newhope\n",
      " | title: assessment of the key-reuse resilience of newhope\n",
      " | book title: None\n",
      "26 Jan 2019: efficient and secure multiparty computation from fixed-key block ciphers\n",
      " | title: efficient and secure multiparty computation from fixed-key block ciphers\n",
      " | book title: None\n",
      "26 Jan 2019: destructive privacy and mutual authentication in vaudenay's rfid model\n",
      " | title: destructive privacy and mutual authentication in vaudenay's rfid model\n",
      " | book title: None\n",
      "26 Jan 2019: zeroct: improving zerocoin with confidential transactions and more\n",
      " | title: zeroct: improving zerocoin with confidential transactions and more\n",
      " | book title: None\n",
      "26 Jan 2019: repeatable oblivious shuffling of large outsourced data blocks\n",
      " | title: repeatable oblivious shuffling of large outsourced data blocks\n",
      " | book title: None\n",
      "26 Jan 2019: uncle traps: harvesting rewards in a queue-based ethereum mining pool\n",
      " | title: uncle traps: harvesting rewards in a queue-based ethereum mining pool\n",
      " | book title: None\n",
      "26 Jan 2019: quantum indistinguishability of random sponges\n",
      " | title: quantum indistinguishability of random sponges\n",
      " | book title: None\n",
      "26 Jan 2019: sampling the integers with low relative error\n",
      " | title: sampling the integers with low relative error\n",
      " | book title: None\n",
      "26 Jan 2019: managing your kleptographic subscription plan\n",
      " | title: managing your kleptographic subscription plan\n",
      " | book title: None\n",
      "26 Jan 2019: publicly verifiable proofs from blockchains\n",
      " | title: publicly verifiable proofs from blockchains\n",
      " | book title: None\n"
     ]
    }
   ],
   "source": [
    "print_articles_publicated_between(2018, 2019, limit=10)"
   ]
  },
  {
   "cell_type": "code",
   "execution_count": 14,
   "metadata": {},
   "outputs": [],
   "source": [
    "cursor.close()\n",
    "cnx.close()"
   ]
  },
  {
   "cell_type": "code",
   "execution_count": null,
   "metadata": {},
   "outputs": [],
   "source": []
  }
 ],
 "metadata": {
  "kernelspec": {
   "display_name": "Python 3",
   "language": "python",
   "name": "python3"
  },
  "language_info": {
   "codemirror_mode": {
    "name": "ipython",
    "version": 3
   },
   "file_extension": ".py",
   "mimetype": "text/x-python",
   "name": "python",
   "nbconvert_exporter": "python",
   "pygments_lexer": "ipython3",
   "version": "3.6.5"
  }
 },
 "nbformat": 4,
 "nbformat_minor": 2
}
