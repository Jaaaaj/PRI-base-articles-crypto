{
 "cells": [
  {
   "cell_type": "code",
   "execution_count": 22,
   "metadata": {},
   "outputs": [
    {
     "data": {
      "text/plain": [
       "'LATIN SMALL LETTER E'"
      ]
     },
     "execution_count": 22,
     "metadata": {},
     "output_type": "execute_result"
    }
   ],
   "source": [
    "import unicodedata\n",
    "unicodedata.name('e')"
   ]
  },
  {
   "cell_type": "code",
   "execution_count": 48,
   "metadata": {},
   "outputs": [
    {
     "data": {
      "text/plain": [
       "'GREEK CAPITAL LETTER DELTA'"
      ]
     },
     "execution_count": 48,
     "metadata": {},
     "output_type": "execute_result"
    }
   ],
   "source": [
    "unicodedata.name('Δ')"
   ]
  },
  {
   "cell_type": "code",
   "execution_count": 17,
   "metadata": {},
   "outputs": [
    {
     "data": {
      "text/plain": [
       "'Δ'"
      ]
     },
     "execution_count": 17,
     "metadata": {},
     "output_type": "execute_result"
    }
   ],
   "source": [
    "\"\\N{GREEK CAPITAL LETTER DELTA}\""
   ]
  },
  {
   "cell_type": "code",
   "execution_count": 49,
   "metadata": {},
   "outputs": [
    {
     "data": {
      "text/plain": [
       "'Δ'"
      ]
     },
     "execution_count": 49,
     "metadata": {},
     "output_type": "execute_result"
    }
   ],
   "source": [
    "unicodedata.lookup('GREEK CAPITAL LETTER DELTA')"
   ]
  },
  {
   "cell_type": "code",
   "execution_count": 1,
   "metadata": {},
   "outputs": [],
   "source": [
    "# {string_to_replace, replacement} dictionary\n",
    "latex_commands = {\n",
    "    r'\\l{}': 'ø',\n",
    "    r'\\o': 'ł',\n",
    "    r'\\textless': '<',\n",
    "    r'\\textgreater': '>',\n",
    "    r'\\euro{}': '€',\n",
    "    r'\\EUR{}': '€',\n",
    "    r'\\P': '¶',\n",
    "    r'\\ddag': '‡',\n",
    "    r'\\textbar': '|',\n",
    "    r'\\textendash': '–',\n",
    "    r'\\texttrademark': '™',\n",
    "    r'\\textexclamdown': '¡',\n",
    "    r'\\pounds': '£',\n",
    "    r'\\S': '§',\n",
    "    r'\\dag': '†',\n",
    "    r'\\textbackslash': '',\n",
    "    r'\\textemdash': '—',\n",
    "    r'\\textregistered': '®',\n",
    "    r'\\textquestiondown': '¿',\n",
    "    r'\\copyright': '©',\n",
    "    r'\\%': '%',\n",
    "    r'\\$': '$',\n",
    "    r'\\{': '{',\n",
    "    r'\\_': '_',\n",
    "    r'\\#': '#',\n",
    "    r'\\&': '&',\n",
    "    r'\\}': '}'\n",
    "}"
   ]
  },
  {
   "cell_type": "code",
   "execution_count": 2,
   "metadata": {},
   "outputs": [],
   "source": [
    "import unicodedata\n",
    "\n",
    "# {regex: replacement} dictionary\n",
    "latex_commands_whith_parametter = {\n",
    "    r\"\\\\'(.)\": lambda matchgroup : unicodedata.lookup(unicodedata.name(matchgroup.group(1)) + ' WITH ACUTE'),\n",
    "    r'\\\\`(.)': lambda matchgroup : unicodedata.lookup(unicodedata.name(matchgroup.group(1)) + ' WITH GRAVE'),\n",
    "    r'\\\\^(.)': lambda matchgroup : unicodedata.lookup(unicodedata.name(matchgroup.group(1)) + ' WITH CIRCUMFLEX'),\n",
    "    r'\\\\\"(.)': lambda matchgroup : unicodedata.lookup(unicodedata.name(matchgroup.group(1)) + ' WITH DIAERESIS'),\n",
    "    r'\\\\H(.)': lambda matchgroup : unicodedata.lookup(unicodedata.name(matchgroup.group(1)) + ' WITH DOUBLE ACUTE'),\n",
    "    r'\\\\~(.)': lambda matchgroup : unicodedata.lookup(unicodedata.name(matchgroup.group(1)) + ' WITH TILDE'),\n",
    "    r'\\\\c(.)': lambda matchgroup : unicodedata.lookup(unicodedata.name(matchgroup.group(1)) + ' WITH CEDILLA'),\n",
    "    r'\\\\k(.)': lambda matchgroup : unicodedata.lookup(unicodedata.name(matchgroup.group(1)) + ' WITH OGONEK'),\n",
    "    r'\\\\=(.)': lambda matchgroup : unicodedata.lookup(unicodedata.name(matchgroup.group(1)) + ' WITH MACRON'),\n",
    "    r'\\\\.(.)': lambda matchgroup : unicodedata.lookup(unicodedata.name(matchgroup.group(1)) + ' WITH DOT ABOVE'),\n",
    "    r'\\\\d(.)': lambda matchgroup : unicodedata.lookup(unicodedata.name(matchgroup.group(1)) + ' WITH DOT BELOW'),\n",
    "    r'\\\\r(.)': lambda matchgroup : unicodedata.lookup(unicodedata.name(matchgroup.group(1)) + ' WITH RING ABOVE'),\n",
    "    r'\\\\u(.)': lambda matchgroup : unicodedata.lookup(unicodedata.name(matchgroup.group(1)) + ' WITH BREVE'),\n",
    "    r'\\\\v(.)': lambda matchgroup : unicodedata.lookup(unicodedata.name(matchgroup.group(1)) + ' WITH CARON'),\n",
    "    r'\\\\textcircled(.)': lambda matchgroup : unicodedata.lookup(unicodedata.name('CIRCLED ' + matchgroup.group(1)))\n",
    "}"
   ]
  },
  {
   "cell_type": "code",
   "execution_count": 3,
   "metadata": {},
   "outputs": [],
   "source": [
    "s = r\"\"\"\n",
    "@inproceedings{backes:inria-00080498,\n",
    "  TITLE = {{Computationally Sound Secrecy Proofs by Mechanized Flow Analysis}},\n",
    "  AUTHOR = {Backes, Michael and Laud, Peeter},\n",
    "  URL = {https://hal.inria.fr/inria-00080498},\n",
    "  BOOKTITLE = {{Workshop on Formal and Computational Cryptography (FCC2006)}},\n",
    "  ADDRESS = {Venice/Italy},\n",
    "  ORGANIZATION = {{V{\\'e}ronique Cortier, Steve Kremer}},\n",
    "  YEAR = {2006},\n",
    "  MONTH = Jul,\n",
    "  PDF = {https://hal.inria.fr/inria-00080498/file/paper1.pdf},\n",
    "  HAL_ID = {inria-00080498},\n",
    "  HAL_VERSION = {v1},\n",
    "}\n",
    "\"\"\""
   ]
  },
  {
   "cell_type": "code",
   "execution_count": 46,
   "metadata": {},
   "outputs": [
    {
     "name": "stdout",
     "output_type": "stream",
     "text": [
      "\n",
      "@inproceedingsbackes:inria-00080498,\n",
      "  TITLE = Computationally Sound Secrecy Proofs by Mechanized Flow Analysis,\n",
      "  AUTHOR = Backes, Michael and Laud, Peeter,\n",
      "  URL = https://hal.inria.fr/inria-00080498,\n",
      "  BOOKTITLE = Workshop on Formal and Computational Cryptography (FCC2006),\n",
      "  ADDRESS = Venice/Italy,\n",
      "  ORGANIZATION = V\\'eronique Cortier, Steve Kremer,\n",
      "  YEAR = 2006,\n",
      "  MONTH = Jul,\n",
      "  PDF = https://hal.inria.fr/inria-00080498/file/paper1.pdf,\n",
      "  HAL_ID = inria-00080498,\n",
      "  HAL_VERSION = v1,\n",
      "\n",
      "\n"
     ]
    }
   ],
   "source": [
    "import re\n",
    "s = re.sub(\"{\", \"\", s)\n",
    "s = re.sub(\"}\", \"\", s)\n",
    "s2 = s\n",
    "for latex, unicode in latex_commands.items():\n",
    "    latex = re.escape(latex)     # escape characters with meaning in the regex langage, like '*',\n",
    "    unicode = re.escape(unicode) # with a '\\', so they are considered as normal characters\n",
    "    s2 = re.sub(latex, unicode, s2)\n",
    "print(s2)"
   ]
  },
  {
   "cell_type": "code",
   "execution_count": 47,
   "metadata": {},
   "outputs": [
    {
     "name": "stdout",
     "output_type": "stream",
     "text": [
      "\\\\'(.)\n",
      "\\\\`{*}\n",
      "\\\\^{*}\n",
      "\\\\\"{*}\n",
      "\\\\H{*}\n",
      "\\\\~{*}\n",
      "\\\\c{*}\n",
      "\\\\k{*}\n",
      "\\\\={*}\n",
      "\\\\.{*}\n",
      "\\\\d{*}\n",
      "\\\\r{*}\n",
      "\\\\u{*}\n",
      "\\\\v{*}\n",
      "\\\\textcircled{*}\n",
      "\n",
      "@inproceedingsbackes:inria-00080498,\n",
      "  TITLE = Computationally Sound Secrecy Proofs by Mechanized Flow Analysis,\n",
      "  AUTHOR = Backes, Michael and Laud, Peeter,\n",
      "  URL = https://hal.inria.fr/inria-00080498,\n",
      "  BOOKTITLE = Workshop on Formal and Computational Cryptography (FCC2006),\n",
      "  ADDRESS = Venice/Italy,\n",
      "  ORGANIZATION = Véronique Cortier, Steve Kremer,\n",
      "  YEAR = 2006,\n",
      "  MONTH = Jul,\n",
      "  PDF = https://hal.inria.fr/inria-00080498/file/paper1.pdf,\n",
      "  HAL_ID = inria-00080498,\n",
      "  HAL_VERSION = v1,\n",
      "\n",
      "\n"
     ]
    }
   ],
   "source": [
    "import re\n",
    "s3 = s2\n",
    "for latex, replacement_function in latex_commands_whith_parametter.items():\n",
    "    print(latex)\n",
    "    pattern = re.compile(latex)\n",
    "    s3 = re.sub(pattern, replacement_function, s3)\n",
    "print(s3)"
   ]
  },
  {
   "cell_type": "code",
   "execution_count": 6,
   "metadata": {},
   "outputs": [],
   "source": [
    "import re\n",
    "\n",
    "def latex_to_unicode(s):\n",
    "    \"\"\"Parse a LaTeX string and replace with unicode where possible\"\"\"\n",
    "    # remove '{' and '}'\n",
    "    s = re.sub(\"{\", \"\", s)\n",
    "    s = re.sub(\"}\", \"\", s)\n",
    "    # replace simple strings\n",
    "    for latex, unicode in latex_commands.items():\n",
    "        latex = re.escape(latex)     # escape characters with meaning in the regex langage, like '*',\n",
    "        unicode = re.escape(unicode) # with a '\\', so they are considered as normal characters\n",
    "        s = re.sub(latex, unicode, s)\n",
    "    # replace complex paterns\n",
    "    for latex, replacement_function in latex_commands_whith_parametter.items():\n",
    "        pattern = re.compile(latex)\n",
    "        s = re.sub(pattern, replacement_function, s)\n",
    "    return s"
   ]
  },
  {
   "cell_type": "code",
   "execution_count": 7,
   "metadata": {},
   "outputs": [
    {
     "name": "stdout",
     "output_type": "stream",
     "text": [
      "\n",
      "@inproceedingsbackes:inria-00080498,\n",
      "  TITLE = Computationally Sound Secrecy Proofs by Mechanized Flow Analysis,\n",
      "  AUTHOR = Backes, Michael and Laud, Peeter,\n",
      "  URL = https://hal.inria.fr/inria-00080498,\n",
      "  BOOKTITLE = Workshop on Formal and Computational Cryptography (FCC2006),\n",
      "  ADDRESS = Venice/Italy,\n",
      "  ORGANIZATION = Véronique Cortier, Steve Kremer,\n",
      "  YEAR = 2006,\n",
      "  MONTH = Jul,\n",
      "  PDF = https://hal.inria.fr/inria-00080498/file/paper1.pdf,\n",
      "  HAL_ID = inria-00080498,\n",
      "  HAL_VERSION = v1,\n",
      "\n",
      "\n"
     ]
    }
   ],
   "source": [
    "print(latex_to_unicode(s))"
   ]
  },
  {
   "cell_type": "code",
   "execution_count": null,
   "metadata": {},
   "outputs": [],
   "source": []
  }
 ],
 "metadata": {
  "kernelspec": {
   "display_name": "Python 3",
   "language": "python",
   "name": "python3"
  },
  "language_info": {
   "codemirror_mode": {
    "name": "ipython",
    "version": 3
   },
   "file_extension": ".py",
   "mimetype": "text/x-python",
   "name": "python",
   "nbconvert_exporter": "python",
   "pygments_lexer": "ipython3",
   "version": "3.6.5"
  }
 },
 "nbformat": 4,
 "nbformat_minor": 2
}
