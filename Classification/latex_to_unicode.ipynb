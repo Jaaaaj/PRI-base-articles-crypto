{
 "cells": [
  {
   "cell_type": "code",
   "execution_count": 1,
   "metadata": {},
   "outputs": [
    {
     "data": {
      "text/plain": [
       "'LATIN SMALL LETTER E'"
      ]
     },
     "execution_count": 1,
     "metadata": {},
     "output_type": "execute_result"
    }
   ],
   "source": [
    "import unicodedata\n",
    "unicodedata.name('e')"
   ]
  },
  {
   "cell_type": "code",
   "execution_count": 2,
   "metadata": {},
   "outputs": [
    {
     "data": {
      "text/plain": [
       "'GREEK CAPITAL LETTER DELTA'"
      ]
     },
     "execution_count": 2,
     "metadata": {},
     "output_type": "execute_result"
    }
   ],
   "source": [
    "unicodedata.name('Δ')"
   ]
  },
  {
   "cell_type": "code",
   "execution_count": 3,
   "metadata": {},
   "outputs": [
    {
     "data": {
      "text/plain": [
       "'Δ'"
      ]
     },
     "execution_count": 3,
     "metadata": {},
     "output_type": "execute_result"
    }
   ],
   "source": [
    "\"\\N{GREEK CAPITAL LETTER DELTA}\""
   ]
  },
  {
   "cell_type": "code",
   "execution_count": 4,
   "metadata": {},
   "outputs": [
    {
     "data": {
      "text/plain": [
       "'Δ'"
      ]
     },
     "execution_count": 4,
     "metadata": {},
     "output_type": "execute_result"
    }
   ],
   "source": [
    "unicodedata.lookup('GREEK CAPITAL LETTER DELTA')"
   ]
  },
  {
   "cell_type": "code",
   "execution_count": 5,
   "metadata": {},
   "outputs": [],
   "source": [
    "# {string_to_replace, replacement} dictionary\n",
    "latex_commands = {\n",
    "    r'\\l{}': 'ø',\n",
    "    r'\\o': 'ł',\n",
    "    r'\\textless': '<',\n",
    "    r'\\textgreater': '>',\n",
    "    r'\\euro{}': '€',\n",
    "    r'\\EUR{}': '€',\n",
    "    r'\\P': '¶',\n",
    "    r'\\ddag': '‡',\n",
    "    r'\\textbar': '|',\n",
    "    r'\\textendash': '–',\n",
    "    r'\\texttrademark': '™',\n",
    "    r'\\textexclamdown': '¡',\n",
    "    r'\\pounds': '£',\n",
    "    r'\\S': '§',\n",
    "    r'\\dag': '†',\n",
    "    r'\\textbackslash': '',\n",
    "    r'\\textemdash': '—',\n",
    "    r'\\textregistered': '®',\n",
    "    r'\\textquestiondown': '¿',\n",
    "    r'\\copyright': '©',\n",
    "    r'\\%': '%',\n",
    "    r'\\$': '$',\n",
    "    r'\\{': '{',\n",
    "    r'\\_': '_',\n",
    "    r'\\#': '#',\n",
    "    r'\\&': '&',\n",
    "    r'\\}': '}'\n",
    "}"
   ]
  },
  {
   "cell_type": "code",
   "execution_count": 6,
   "metadata": {},
   "outputs": [],
   "source": [
    "import sys\n",
    "import unicodedata\n",
    "\n",
    "def get_replacement(unicode_expression, matchgroup):\n",
    "    matched_caracter = matchgroup.group(1) # caracter which take the place of '(.)'\n",
    "    replacement_unicode_caracter_name = unicode_expression.replace('(.)', unicodedata.name(matched_caracter))\n",
    "    try: # try to get the unicode caracter corresponding to unicode_caracter_name\n",
    "        replacement_caracter = unicodedata.lookup(replacement_unicode_caracter_name)\n",
    "    except KeyError as e:\n",
    "        print('Cannot find unicode for', replacement_unicode_caracter_name,\n",
    "              ', using', matchgroup.group(1), 'instead', file = sys.stderr)\n",
    "        replacement_caracter = matchgroup.group(1)\n",
    "    return replacement_caracter\n",
    "\n",
    "# {regex: replacement} dictionary\n",
    "latex_commands_whith_parametter = {\n",
    "    r\"\\\\'(.)\": lambda matchgroup : get_replacement('(.) WITH ACUTE', matchgroup),\n",
    "    r'\\\\`(.)': lambda matchgroup : get_replacement('(.) WITH GRAVE', matchgroup),\n",
    "    r'\\\\^(.)': lambda matchgroup : get_replacement('(.) WITH CIRCUMFLEX', matchgroup),\n",
    "    r'\\\\\"(.)': lambda matchgroup : get_replacement('(.) WITH DIAERESIS', matchgroup),\n",
    "    r'\\\\H(.)': lambda matchgroup : get_replacement('(.) WITH DOUBLE ACUTE', matchgroup),\n",
    "    r'\\\\~(.)': lambda matchgroup : get_replacement('(.) WITH TILDE', matchgroup),\n",
    "    r'\\\\c(.)': lambda matchgroup : get_replacement('(.) WITH CEDILLA', matchgroup),\n",
    "    r'\\\\k(.)': lambda matchgroup : get_replacement('(.) WITH OGONEK', matchgroup),\n",
    "    r'\\\\=(.)': lambda matchgroup : get_replacement('(.) WITH MACRON', matchgroup),\n",
    "    r'\\\\\\.(.)': lambda matchgroup : get_replacement('(.) WITH DOT ABOVE', matchgroup),\n",
    "    r'\\\\d(.)': lambda matchgroup : get_replacement('(.) WITH DOT BELOW', matchgroup),\n",
    "    r'\\\\r(.)': lambda matchgroup : get_replacement('(.) WITH RING ABOVE', matchgroup),\n",
    "    r'\\\\u(.)': lambda matchgroup : get_replacement('(.) WITH BREVE', matchgroup),\n",
    "    r'\\\\v(.)': lambda matchgroup : get_replacement('(.) WITH CARON', matchgroup),\n",
    "    r'\\\\textcircled(.)': lambda matchgroup : get_replacement('CIRCLED (.)', matchgroup),\n",
    "        # we need to escape the '.' and '\\' to match the litteral '.' and '\\'\n",
    "        # the '(.)' match any one caracter and enable us to retriview it as a matchgroup\n",
    "}"
   ]
  },
  {
   "cell_type": "code",
   "execution_count": 7,
   "metadata": {},
   "outputs": [],
   "source": [
    "test_string = r\"\"\"\n",
    "@inproceedings{backes:inria-00080498,\n",
    "  TITLE = {{Computationally Sound Secrecy Proofs by Mechanized Flow Analysis}},\n",
    "  AUTHOR = {Backes, Michael and Laud, Peeter},\n",
    "  URL = {https://hal.inria.fr/inria-00080498},\n",
    "  BOOKTITLE = {{Workshop on Formal and Computational Cryptography (FCC2006)}},\n",
    "  ADDRESS = {Venice/Italy},\n",
    "  ORGANIZATION = {{V{\\'e}ronique Cortier, Steve Kremer}},\n",
    "  YEAR = {2006},\n",
    "  MONTH = Jul,\n",
    "  PDF = {https://hal.inria.fr/inria-00080498/file/paper1.pdf},\n",
    "  HAL_ID = {inria-00080498},\n",
    "  HAL_VERSION = {v1},\n",
    "}\n",
    "\n",
    "@INPROCEEDINGS{Legeay-2011,\n",
    "  author = {Matthieu Legeay},\n",
    "  title = {Permutation decoding : Towards an approach using algebraic properties\n",
    "\tof the $\\sigma$-subcode},\n",
    "  editor = {Daniel Augot and Anne Canteaut},\n",
    "  booktitle = {WCC 2011},\n",
    "  year = {2011},\n",
    "  pages = {193-202}\n",
    "}\n",
    "\n",
    "@inproceedings{blondeau:hal-01276270,\n",
    "  TITLE = {{On Distinct Known Plaintext Attacks}},\n",
    "  AUTHOR = {Blondeau, C{\\'e}line and Nyberg, Kaisa},\n",
    "  URL = {https://hal.inria.fr/hal-01276270},\n",
    "  BOOKTITLE = {{WCC2015 - 9th International Workshop on Coding and Cryptography 2015}},\n",
    "  ADDRESS = {Paris, France},\n",
    "  ORGANIZATION = {{Anne Canteaut, Ga{\\\"e}tan Leurent, Maria Naya-Plasencia}},\n",
    "  EDITOR = {Pascale Charpin, Nicolas Sendrier, Jean-Pierre Tillich},\n",
    "  SERIES = {Proceedings of the 9th International Workshop on Coding and Cryptography 2015 WCC2015},\n",
    "  YEAR = {2015},\n",
    "  MONTH = Apr,\n",
    "  KEYWORDS = {multidimensional linear attack ; zero-correlation linear attack ; key-difference-invariant-bias attack ; known plaintext ; distinct known plaintext ; statistical model},\n",
    "  PDF = {https://hal.inria.fr/hal-01276270/file/wcc15-we2-3.pdf},\n",
    "  HAL_ID = {hal-01276270},\n",
    "  HAL_VERSION = {v1},\n",
    "}\n",
    "\"\"\""
   ]
  },
  {
   "cell_type": "code",
   "execution_count": 8,
   "metadata": {},
   "outputs": [
    {
     "name": "stdout",
     "output_type": "stream",
     "text": [
      "\n",
      "@inproceedingsbackes:inria-00080498,\n",
      "  TITLE = Computationally Sound Secrecy Proofs by Mechanized Flow Analysis,\n",
      "  AUTHOR = Backes, Michael and Laud, Peeter,\n",
      "  URL = https://hal.inria.fr/inria-00080498,\n",
      "  BOOKTITLE = Workshop on Formal and Computational Cryptography (FCC2006),\n",
      "  ADDRESS = Venice/Italy,\n",
      "  ORGANIZATION = V\\'eronique Cortier, Steve Kremer,\n",
      "  YEAR = 2006,\n",
      "  MONTH = Jul,\n",
      "  PDF = https://hal.inria.fr/inria-00080498/file/paper1.pdf,\n",
      "  HAL_ID = inria-00080498,\n",
      "  HAL_VERSION = v1,\n",
      "\n",
      "\n",
      "@INPROCEEDINGSLegeay-2011,\n",
      "  author = Matthieu Legeay,\n",
      "  title = Permutation decoding : Towards an approach using algebraic properties\n",
      "\tof the $\\sigma$-subcode,\n",
      "  editor = Daniel Augot and Anne Canteaut,\n",
      "  booktitle = WCC 2011,\n",
      "  year = 2011,\n",
      "  pages = 193-202\n",
      "\n",
      "\n",
      "@inproceedingsblondeau:hal-01276270,\n",
      "  TITLE = On Distinct Known Plaintext Attacks,\n",
      "  AUTHOR = Blondeau, C\\'eline and Nyberg, Kaisa,\n",
      "  URL = https://hal.inria.fr/hal-01276270,\n",
      "  BOOKTITLE = WCC2015 - 9th International Workshop on Coding and Cryptography 2015,\n",
      "  ADDRESS = Paris, France,\n",
      "  ORGANIZATION = Anne Canteaut, Ga\\\"etan Leurent, Maria Naya-Plasencia,\n",
      "  EDITOR = Pascale Charpin, Nicolas Sendrier, Jean-Pierre Tillich,\n",
      "  SERIES = Proceedings of the 9th International Workshop on Coding and Cryptography 2015 WCC2015,\n",
      "  YEAR = 2015,\n",
      "  MONTH = Apr,\n",
      "  KEYWORDS = multidimensional linear attack ; zero-correlation linear attack ; key-difference-invariant-bias attack ; known plaintext ; distinct known plaintext ; statistical model,\n",
      "  PDF = https://hal.inria.fr/hal-01276270/file/wcc15-we2-3.pdf,\n",
      "  HAL_ID = hal-01276270,\n",
      "  HAL_VERSION = v1,\n",
      "\n",
      "\n"
     ]
    }
   ],
   "source": [
    "import re\n",
    "s = re.sub(\"{\", \"\", test_string)\n",
    "s = re.sub(\"}\", \"\", s)\n",
    "s2 = s\n",
    "for latex, unicode in latex_commands.items():\n",
    "    latex = re.escape(latex)     # escape characters with meaning in the regex langage, like '*',\n",
    "    unicode = re.escape(unicode) # with a '\\', so they are considered as normal characters\n",
    "    s2 = re.sub(latex, unicode, s2)\n",
    "print(s2)"
   ]
  },
  {
   "cell_type": "code",
   "execution_count": 9,
   "metadata": {},
   "outputs": [
    {
     "name": "stdout",
     "output_type": "stream",
     "text": [
      "\\\\'(.)\n",
      "\\\\`(.)\n",
      "\\\\^(.)\n",
      "\\\\\"(.)\n",
      "\\\\H(.)\n",
      "\\\\~(.)\n",
      "\\\\c(.)\n",
      "\\\\k(.)\n",
      "\\\\=(.)\n",
      "\\\\\\.(.)\n",
      "\\\\d(.)\n",
      "\\\\r(.)\n",
      "\\\\u(.)\n",
      "\\\\v(.)\n",
      "\\\\textcircled(.)\n",
      "\n",
      "@inproceedingsbackes:inria-00080498,\n",
      "  TITLE = Computationally Sound Secrecy Proofs by Mechanized Flow Analysis,\n",
      "  AUTHOR = Backes, Michael and Laud, Peeter,\n",
      "  URL = https://hal.inria.fr/inria-00080498,\n",
      "  BOOKTITLE = Workshop on Formal and Computational Cryptography (FCC2006),\n",
      "  ADDRESS = Venice/Italy,\n",
      "  ORGANIZATION = Véronique Cortier, Steve Kremer,\n",
      "  YEAR = 2006,\n",
      "  MONTH = Jul,\n",
      "  PDF = https://hal.inria.fr/inria-00080498/file/paper1.pdf,\n",
      "  HAL_ID = inria-00080498,\n",
      "  HAL_VERSION = v1,\n",
      "\n",
      "\n",
      "@INPROCEEDINGSLegeay-2011,\n",
      "  author = Matthieu Legeay,\n",
      "  title = Permutation decoding : Towards an approach using algebraic properties\n",
      "\tof the $\\sigma$-subcode,\n",
      "  editor = Daniel Augot and Anne Canteaut,\n",
      "  booktitle = WCC 2011,\n",
      "  year = 2011,\n",
      "  pages = 193-202\n",
      "\n",
      "\n",
      "@inproceedingsblondeau:hal-01276270,\n",
      "  TITLE = On Distinct Known Plaintext Attacks,\n",
      "  AUTHOR = Blondeau, Céline and Nyberg, Kaisa,\n",
      "  URL = https://hal.inria.fr/hal-01276270,\n",
      "  BOOKTITLE = WCC2015 - 9th International Workshop on Coding and Cryptography 2015,\n",
      "  ADDRESS = Paris, France,\n",
      "  ORGANIZATION = Anne Canteaut, Gaëtan Leurent, Maria Naya-Plasencia,\n",
      "  EDITOR = Pascale Charpin, Nicolas Sendrier, Jean-Pierre Tillich,\n",
      "  SERIES = Proceedings of the 9th International Workshop on Coding and Cryptography 2015 WCC2015,\n",
      "  YEAR = 2015,\n",
      "  MONTH = Apr,\n",
      "  KEYWORDS = multidimensional linear attack ; zero-correlation linear attack ; key-difference-invariant-bias attack ; known plaintext ; distinct known plaintext ; statistical model,\n",
      "  PDF = https://hal.inria.fr/hal-01276270/file/wcc15-we2-3.pdf,\n",
      "  HAL_ID = hal-01276270,\n",
      "  HAL_VERSION = v1,\n",
      "\n",
      "\n"
     ]
    }
   ],
   "source": [
    "import re\n",
    "s3 = s2\n",
    "for latex, replacement_function in latex_commands_whith_parametter.items():\n",
    "    print(latex)\n",
    "    pattern = re.compile(latex)\n",
    "    s3 = re.sub(pattern, replacement_function, s3)\n",
    "print(s3)"
   ]
  },
  {
   "cell_type": "code",
   "execution_count": 10,
   "metadata": {},
   "outputs": [],
   "source": [
    "import re\n",
    "\n",
    "def latex_to_unicode(s):\n",
    "    \"\"\"Parse a LaTeX string and replace with unicode where possible\"\"\"\n",
    "    # remove '{' and '}'\n",
    "    s = re.sub(\"{\", \"\", s)\n",
    "    s = re.sub(\"}\", \"\", s)\n",
    "    # replace simple strings\n",
    "    for latex, unicode in latex_commands.items():\n",
    "        latex = re.escape(latex)     # escape characters with meaning in the regex langage, like '*',\n",
    "        unicode = re.escape(unicode) # with a '\\', so they are considered as normal characters\n",
    "        s = re.sub(latex, unicode, s)\n",
    "    # replace complex paterns\n",
    "    for latex, replacement_function in latex_commands_whith_parametter.items():\n",
    "        pattern = re.compile(latex)\n",
    "        s = re.sub(pattern, replacement_function, s)\n",
    "    return s"
   ]
  },
  {
   "cell_type": "code",
   "execution_count": 11,
   "metadata": {},
   "outputs": [
    {
     "name": "stdout",
     "output_type": "stream",
     "text": [
      "\n",
      "@inproceedingsbackes:inria-00080498,\n",
      "  TITLE = Computationally Sound Secrecy Proofs by Mechanized Flow Analysis,\n",
      "  AUTHOR = Backes, Michael and Laud, Peeter,\n",
      "  URL = https://hal.inria.fr/inria-00080498,\n",
      "  BOOKTITLE = Workshop on Formal and Computational Cryptography (FCC2006),\n",
      "  ADDRESS = Venice/Italy,\n",
      "  ORGANIZATION = Véronique Cortier, Steve Kremer,\n",
      "  YEAR = 2006,\n",
      "  MONTH = Jul,\n",
      "  PDF = https://hal.inria.fr/inria-00080498/file/paper1.pdf,\n",
      "  HAL_ID = inria-00080498,\n",
      "  HAL_VERSION = v1,\n",
      "\n",
      "\n",
      "@INPROCEEDINGSLegeay-2011,\n",
      "  author = Matthieu Legeay,\n",
      "  title = Permutation decoding : Towards an approach using algebraic properties\n",
      "\tof the $\\sigma$-subcode,\n",
      "  editor = Daniel Augot and Anne Canteaut,\n",
      "  booktitle = WCC 2011,\n",
      "  year = 2011,\n",
      "  pages = 193-202\n",
      "\n",
      "\n",
      "@inproceedingsblondeau:hal-01276270,\n",
      "  TITLE = On Distinct Known Plaintext Attacks,\n",
      "  AUTHOR = Blondeau, Céline and Nyberg, Kaisa,\n",
      "  URL = https://hal.inria.fr/hal-01276270,\n",
      "  BOOKTITLE = WCC2015 - 9th International Workshop on Coding and Cryptography 2015,\n",
      "  ADDRESS = Paris, France,\n",
      "  ORGANIZATION = Anne Canteaut, Gaëtan Leurent, Maria Naya-Plasencia,\n",
      "  EDITOR = Pascale Charpin, Nicolas Sendrier, Jean-Pierre Tillich,\n",
      "  SERIES = Proceedings of the 9th International Workshop on Coding and Cryptography 2015 WCC2015,\n",
      "  YEAR = 2015,\n",
      "  MONTH = Apr,\n",
      "  KEYWORDS = multidimensional linear attack ; zero-correlation linear attack ; key-difference-invariant-bias attack ; known plaintext ; distinct known plaintext ; statistical model,\n",
      "  PDF = https://hal.inria.fr/hal-01276270/file/wcc15-we2-3.pdf,\n",
      "  HAL_ID = hal-01276270,\n",
      "  HAL_VERSION = v1,\n",
      "\n",
      "\n"
     ]
    }
   ],
   "source": [
    "print(latex_to_unicode(test_string))"
   ]
  },
  {
   "cell_type": "code",
   "execution_count": null,
   "metadata": {},
   "outputs": [],
   "source": []
  }
 ],
 "metadata": {
  "kernelspec": {
   "display_name": "Python 3",
   "language": "python",
   "name": "python3"
  },
  "language_info": {
   "codemirror_mode": {
    "name": "ipython",
    "version": 3
   },
   "file_extension": ".py",
   "mimetype": "text/x-python",
   "name": "python",
   "nbconvert_exporter": "python",
   "pygments_lexer": "ipython3",
   "version": "3.6.5"
  }
 },
 "nbformat": 4,
 "nbformat_minor": 2
}
