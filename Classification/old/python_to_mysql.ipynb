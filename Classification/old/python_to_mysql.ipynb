{
 "cells": [
  {
   "cell_type": "code",
   "execution_count": 1,
   "metadata": {},
   "outputs": [],
   "source": [
    "config = {\n",
    "    \"user\": \"root\",\n",
    "    \"password\": \"tseinfo\",\n",
    "    \"database\": \"pri_database\",\n",
    "    \"host\": \"localhost\",\n",
    "    \"port\": 3306\n",
    "}"
   ]
  },
  {
   "cell_type": "code",
   "execution_count": 2,
   "metadata": {},
   "outputs": [],
   "source": [
    "posts_query = \"SELECT post_id, title, date, url, book_title FROM posts\"\n",
    "keywords_of_a_post_query = (\"SELECT KEYWORD_NAME FROM posts_keywords pk \"\n",
    "                            \"JOIN keywords k \"\n",
    "                            \"ON pk.KEYWORD_ID = k.KEYWORD_ID \"\n",
    "                            \"WHERE pk.POST_ID = {};\")\n",
    "delete_post_query = \"DELETE FROM posts WHERE POST_ID = {}\"\n",
    "\n",
    "categories_query = \"SELECT category_id, category_name, subcategory_id FROM categories\"\n",
    "add_categories_query = 'INSERT INTO categories (CATEGORY_NAME) VALUES (\"{}\")'\n",
    "\n",
    "set_post_category_query = \"INSERT INTO posts_categories (POST_ID, CATEGORY_ID) VALUES ({}, {})\"\n",
    "delete_post_category_query = \"DELETE FROM posts_categories WHERE POST_ID = {}\""
   ]
  },
  {
   "cell_type": "code",
   "execution_count": 3,
   "metadata": {},
   "outputs": [],
   "source": [
    "# You need to pip install mysql\n",
    "try:\n",
    "    import mysql.connector\n",
    "except ModuleNotFoundError:\n",
    "    import sys\n",
    "    print(\"Error: You need to `pip install mysql-connector-python`\", file=sys.stderr)"
   ]
  },
  {
   "cell_type": "code",
   "execution_count": 4,
   "metadata": {},
   "outputs": [],
   "source": [
    "cursor = None\n",
    "cnx = None\n",
    "\n",
    "def connect():\n",
    "    global cursor, cnx\n",
    "    #print(\"Connecting to database...\")\n",
    "    cnx = mysql.connector.connect(**config)\n",
    "    cursor = cnx.cursor()\n",
    "    cnx.autocommit = True\n",
    "\n",
    "def disconnect():\n",
    "    global cursor, cnx\n",
    "    cursor.close()\n",
    "    cnx.close()\n",
    "\n",
    "def query(query, fetch=True, close_connexion=True, limit_count=None, limit_offset=0):\n",
    "    global cursor, cnx\n",
    "    if limit_count != None:\n",
    "        query = query + \" LIMIT {}, {}\".format(limit_offset, limit_count)\n",
    "    try:\n",
    "        cursor.execute(query)\n",
    "    except AttributeError: # cursor is None\n",
    "        connect()\n",
    "        cursor.execute(query)\n",
    "    except mysql.connector.errors.ProgrammingError: # cursor is not connected\n",
    "        connect()\n",
    "        cursor.execute(query)\n",
    "    finally:\n",
    "        #print(\"executed query:\\n\", query) # useful for debugging\n",
    "        if fetch:\n",
    "            result = cursor.fetchall()\n",
    "        if close_connexion:\n",
    "            disconnect()\n",
    "        if fetch:\n",
    "            return result"
   ]
  },
  {
   "cell_type": "code",
   "execution_count": 5,
   "metadata": {},
   "outputs": [],
   "source": [
    "def get_prints(limit=None):\n",
    "    Ids, Titles, Book_titles, Keywords = [], [], [], []\n",
    "    results = query(posts_query, limit_count=limit, close_connexion=False)\n",
    "    for (post_id, title, date, url, book_title) in results:\n",
    "        #print(\"{:%d %b %Y}: {}\".format(date, title))\n",
    "        #print(\" | title:\", title)\n",
    "        #print(\" | book title:\", book_title)\n",
    "        keywords = []\n",
    "        kw_results = query(keywords_of_a_post_query.format(post_id), close_connexion=False)\n",
    "        for fields in kw_results:\n",
    "            keywords.append(fields[0]) # fields[0] = keyword field\n",
    "        #print(\" |\", len(keywords), \"keywords:\", \" ; \".join(keywords))\n",
    "        Ids.append(post_id)\n",
    "        Titles.append(title if title else \"\")                # if None, put \"\" instead\n",
    "        Book_titles.append(book_title if book_title else \"\") # if None, put \"\" instead\n",
    "        Keywords.append(keywords if keywords else \"\")        # if None, put \"\" instead\n",
    "    disconnect()\n",
    "    return Ids, Titles, Book_titles, Keywords"
   ]
  },
  {
   "cell_type": "code",
   "execution_count": 6,
   "metadata": {},
   "outputs": [],
   "source": [
    "def get_categories(debug = False):\n",
    "    Category_ids = []\n",
    "    Category_names = []\n",
    "    \n",
    "    categories = query(categories_query)\n",
    "    for (id_, name, subcategories) in categories:\n",
    "        if debug:\n",
    "            print(\"{}: {}\".format(id_, name))\n",
    "        Category_ids.append(id_)\n",
    "        Category_names.append(name)\n",
    "    return {name: id_ for name, id_ in zip(Category_names, Category_ids)}"
   ]
  },
  {
   "cell_type": "code",
   "execution_count": 7,
   "metadata": {},
   "outputs": [],
   "source": [
    "def add_category(name):\n",
    "    query(add_categories_query.format(name), fetch=False)\n",
    "\n",
    "def add_categories(Names):\n",
    "    for name in Names:\n",
    "        add_category(name)"
   ]
  },
  {
   "cell_type": "code",
   "execution_count": 8,
   "metadata": {},
   "outputs": [],
   "source": [
    "Categories = [\"Others\", \"Crypto\"]\n",
    "Database_categories = get_categories()\n",
    "for category in Categories:\n",
    "    if category not in Database_categories:\n",
    "        print(\"Warning: category '{}' not found in the database. Adding it to the 'categories' table.\".format(category))\n",
    "        add_category(category)\n",
    "Database_categories = get_categories() # get_categories(debug=True) to see the categories in the database"
   ]
  },
  {
   "cell_type": "code",
   "execution_count": 9,
   "metadata": {},
   "outputs": [],
   "source": [
    "def set_print_category(post_id, category_name, delete_post_if_category_is=\"Other\", close_connexion=True):\n",
    "    # delete current value\n",
    "    query(delete_post_category_query.format(post_id), fetch=False, close_connexion=False)\n",
    "    # create new value, or delete the post if delete_post_if_category_is == category_name\n",
    "    if delete_post_if_category_is != None and category_name == delete_post_if_category_is:\n",
    "            # if delete_post_if_category_is is specified and match the post category, delete the post\n",
    "        query(delete_post_query, fetch=False, close_connexion=close_connexion)\n",
    "    else:\n",
    "        assert category_name in Categories, \"category {} is not in the list Categories {}, but it should\".format(category_name, Categories)\n",
    "        category_id = Database_categories[category_name]\n",
    "        query(set_post_category_query.format(post_id, category_id), fetch=False, close_connexion=close_connexion)\n",
    "\n",
    "def set_print_categories(Post_ids, Category_names):\n",
    "    assert len(Post_ids) == len(Category_names), \"There should be one category per id, but there is not\"\n",
    "    for i in range(len(Post_ids)):\n",
    "        set_print_category(Post_ids[i], Category_names[i], close_connexion=False)\n",
    "    disconnect()"
   ]
  },
  {
   "cell_type": "code",
   "execution_count": 10,
   "metadata": {},
   "outputs": [],
   "source": [
    "set_print_category(68352, \"Crypto\")"
   ]
  },
  {
   "cell_type": "code",
   "execution_count": 11,
   "metadata": {},
   "outputs": [],
   "source": [
    "def mock_classifier(x_titles, x_keywords, x_booktitles):\n",
    "    import random\n",
    "    assert len(x_titles) == len(x_booktitles) and len(x_titles) == len(x_keywords)\n",
    "    return [random.choice([\"Others\", \"Crypto\"]) for i in range(len(x_titles))]"
   ]
  },
  {
   "cell_type": "code",
   "execution_count": 12,
   "metadata": {},
   "outputs": [
    {
     "name": "stdout",
     "output_type": "stream",
     "text": [
      "took 2 s to load 10500 prints\n",
      "took 84 s to save 10500 predictions\n"
     ]
    }
   ],
   "source": [
    "import time\n",
    "\n",
    "t1 = time.time()\n",
    "x_ids, x_titles, x_booktitles, x_keywords = get_prints()\n",
    "prediction = mock_classifier(x_titles, x_keywords, x_booktitles)\n",
    "print(\"took\", round(time.time() - t1), \"s to load\", len(prediction), \"prints\")\n",
    "\n",
    "t1 = time.time()\n",
    "set_print_categories(x_ids, prediction)\n",
    "print(\"took\", round(time.time() - t1), \"s to save\", len(prediction), \"predictions\")"
   ]
  },
  {
   "cell_type": "code",
   "execution_count": 13,
   "metadata": {},
   "outputs": [
    {
     "name": "stderr",
     "output_type": "stream",
     "text": [
      "C:\\anaconda3\\lib\\site-packages\\h5py\\__init__.py:36: FutureWarning: Conversion of the second argument of issubdtype from `float` to `np.floating` is deprecated. In future, it will be treated as `np.float64 == np.dtype(float).type`.\n",
      "  from ._conv import register_converters as _register_converters\n",
      "Using TensorFlow backend.\n"
     ]
    },
    {
     "name": "stdout",
     "output_type": "stream",
     "text": [
      "took 2 s to load 10500 prints\n",
      "took 93 s to predict 10500 categories\n",
      "took 0 s to save 10500 predictions\n"
     ]
    }
   ],
   "source": [
    "import time\n",
    "from Predict import predict\n",
    "\n",
    "t1 = time.time()\n",
    "x_ids, x_titles, x_booktitles, x_keywords = get_prints()\n",
    "print(\"took\", round(time.time() - t1), \"s to load\", len(x_ids), \"prints\")\n",
    "\n",
    "t1 = time.time()\n",
    "prediction = predict(x_titles, x_keywords, x_booktitles)\n",
    "print(\"took\", round(time.time() - t1), \"s to predict\", len(prediction), \"categories\")\n",
    "\n",
    "t1 = time.time()\n",
    "#set_print_categories(x_ids, prediction)\n",
    "print(\"took\", round(time.time() - t1), \"s to save\", len(prediction), \"predictions\")"
   ]
  },
  {
   "cell_type": "code",
   "execution_count": null,
   "metadata": {},
   "outputs": [],
   "source": []
  }
 ],
 "metadata": {
  "kernelspec": {
   "display_name": "Python 3",
   "language": "python",
   "name": "python3"
  },
  "language_info": {
   "codemirror_mode": {
    "name": "ipython",
    "version": 3
   },
   "file_extension": ".py",
   "mimetype": "text/x-python",
   "name": "python",
   "nbconvert_exporter": "python",
   "pygments_lexer": "ipython3",
   "version": "3.6.5"
  }
 },
 "nbformat": 4,
 "nbformat_minor": 2
}
